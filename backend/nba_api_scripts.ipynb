{
 "cells": [
  {
   "cell_type": "code",
   "execution_count": null,
   "metadata": {},
   "outputs": [],
   "source": [
    "from nba_api.stats.endpoints import leagueleaders\n",
    "from nba_api.stats.endpoints import teamplayerdashboard\n",
    "from db import db\n",
    "import pandas as pd\n",
    "import constants"
   ]
  },
  {
   "cell_type": "code",
   "execution_count": null,
   "metadata": {},
   "outputs": [],
   "source": [
    "# Collect leaderboards for each stat and insert into db\n",
    "per_code = {\n",
    "    \"Totals\": \"tot\",\n",
    "    \"PerGame\": \"pg\",\n",
    "    \"Per48\": \"p48\",\n",
    "}\n",
    "\n",
    "for per_mode in [\"Totals\", \"PerGame\", \"Per48\"]:\n",
    "\n",
    "    leaders_df = leagueleaders.LeagueLeaders(per_mode48=per_mode, season=\"2022-23\").get_data_frames()[0]\n",
    "\n",
    "    for stat in constants.new_leaderboard_names:\n",
    "        stat_df = leaders_df[['PLAYER_ID',stat]].sort_values(stat, ascending=False)\n",
    "        stat_df.reset_index(inplace=True)\n",
    "        stat_df['RANK'] = stat_df.index + 1\n",
    "        stat_df = stat_df[['RANK','PLAYER_ID',stat]]\n",
    "        stat_df.columns = ['rank','player_id','value']\n",
    "        \n",
    "        db.leaderboards2.insert_one({\n",
    "            \"_id\": f\"{stat}_{per_code[per_mode]}\",\n",
    "            \"player_id\": stat_df['player_id'].tolist(),\n",
    "            \"value\": stat_df['value'].tolist(),\n",
    "            \"per_mode\": per_mode\n",
    "        })\n",
    "\n",
    "        print(f\"{stat}_{per_code[per_mode]} done\")"
   ]
  },
  {
   "cell_type": "code",
   "execution_count": null,
   "metadata": {},
   "outputs": [],
   "source": [
    "# Collect team rosters and insert into db\n",
    "for team in db.teams.find():\n",
    "    try:\n",
    "        team_df = teamplayerdashboard.TeamPlayerDashboard(team_id=team['teamId'], season=\"2022-23\").get_data_frames()[1]\n",
    "        \n",
    "        team_roster = team_df['PLAYER_ID'].to_list()\n",
    "        \n",
    "        db.teams.update_one({\"_id\": team[\"_id\"]}, {\"$set\": {\"roster\": team_roster}})\n",
    "\n",
    "        for player in team_roster:\n",
    "            if db.players.find_one({\"_id\": player}) is None:\n",
    "                db.players.insert_one({\n",
    "                    \"_id\": player,\n",
    "                    \"name\": team_df[team_df['PLAYER_ID'] == player]['PLAYER_NAME'].values[0]\n",
    "                })\n",
    "                \n",
    "        print(f\"{team['_id']} done\")\n",
    "    except:\n",
    "        print(f\"{team['_id']} failed\")"
   ]
  },
  {
   "cell_type": "code",
   "execution_count": 16,
   "metadata": {},
   "outputs": [],
   "source": [
    "import copy\n",
    "\n",
    "# Update team codes in schedule database\n",
    "code_translate = {\n",
    "    \"BRK\": \"BKN\",\n",
    "    \"CHO\": \"CHA\",\n",
    "    \"PHO\": \"PHX\",\n",
    "}\n",
    "\n",
    "for game in db.schedule.find():\n",
    "    game_code = copy.copy(game['_id'])\n",
    "    game_code_split = game_code.split('-')\n",
    "    home, away = game_code_split[0], game_code_split[1]\n",
    "    \n",
    "    new_game_code = None\n",
    "    if home in code_translate.keys():\n",
    "        new_game_code = f\"{code_translate[home]}-{away}-{game_code_split[2]}\"\n",
    "        game[\"home_code\"] = code_translate[home]\n",
    "        db.schedule.update_one({\"_id\": game[\"_id\"]}, {\"$set\": {\"schedule.home_code\": code_translate[home]}})\n",
    "        \n",
    "    if away in code_translate.keys():\n",
    "        if new_game_code:\n",
    "            new_game_code = f\"{code_translate[home]}-{code_translate[away]}-{game_code_split[2]}\"\n",
    "        else:\n",
    "            new_game_code = f\"{home}-{code_translate[away]}-{game_code_split[2]}\"\n",
    "        db.schedule.update_one({\"_id\": game[\"_id\"]}, {\"$set\": {\"schedule.away_code\": code_translate[away]}})\n",
    "        \n",
    "    if new_game_code:\n",
    "        db.schedule.insert_one({\n",
    "            \"_id\": new_game_code,\n",
    "            \"schedule\": game[\"schedule\"]\n",
    "        })\n",
    "        db.schedule.delete_one({\"_id\": game_code})\n"
   ]
  },
  {
   "cell_type": "code",
   "execution_count": null,
   "metadata": {},
   "outputs": [],
   "source": [
    "# Rewrite Flask API\n",
    "# -- Just need to update leaderboards"
   ]
  },
  {
   "cell_type": "code",
   "execution_count": null,
   "metadata": {},
   "outputs": [],
   "source": [
    "# Collect player bio data and headshots\n",
    "# -- Need to figure out how to get headshots from nba_api\n",
    "# -- Connect player id's to other websites codes"
   ]
  }
 ],
 "metadata": {
  "kernelspec": {
   "display_name": "Python 3",
   "language": "python",
   "name": "python3"
  },
  "language_info": {
   "codemirror_mode": {
    "name": "ipython",
    "version": 3
   },
   "file_extension": ".py",
   "mimetype": "text/x-python",
   "name": "python",
   "nbconvert_exporter": "python",
   "pygments_lexer": "ipython3",
   "version": "3.10.6"
  },
  "orig_nbformat": 4,
  "vscode": {
   "interpreter": {
    "hash": "fb4569285eef3a3450cb62085a5b1e0da4bce0af555edc33dcf29baf3acc1368"
   }
  }
 },
 "nbformat": 4,
 "nbformat_minor": 2
}
