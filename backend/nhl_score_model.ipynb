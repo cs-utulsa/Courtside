{
 "cells": [
  {
   "attachments": {},
   "cell_type": "markdown",
   "metadata": {},
   "source": [
    "Package Imports"
   ]
  },
  {
   "cell_type": "code",
   "execution_count": 14,
   "metadata": {},
   "outputs": [],
   "source": [
    "from db import db\n",
    "\n",
    "import pandas as pd\n",
    "import constants\n",
    "\n",
    "import requests\n",
    "import json\n",
    "\n",
    "from datetime import datetime\n",
    "import pytz\n",
    "\n",
    "from sklearn.gaussian_process.kernels import RBF,  DotProduct, WhiteKernel, Matern\n",
    "from sklearn.gaussian_process import GaussianProcessRegressor\n",
    "from scipy import stats\n",
    "import pickle"
   ]
  },
  {
   "attachments": {},
   "cell_type": "markdown",
   "metadata": {},
   "source": [
    "Get Training Data"
   ]
  },
  {
   "cell_type": "code",
   "execution_count": null,
   "metadata": {},
   "outputs": [],
   "source": [
    "# Desired seasons\n",
    "seasons = ['20152016', '20162017', '20172018', '20182019', '20192020', '20202021', '20212022', '20222023']\n",
    "\n",
    "# Desired stats\n",
    "team_stats = ['evGGARatio', 'shotsPerGame', 'shootingPctg']\n",
    "opp_stats = ['shotsAllowed', 'savePctg']\n",
    "cols = ['game_id', 'date', 'team_id', 'home_away', 'goals'] + team_stats + ['oppShotsAllowed', 'oppSavePctg']\n",
    "\n",
    "# Create gamelog dataframe\n",
    "nhl_gamelogs = []\n",
    "\n",
    "# Base URL for NHL API\n",
    "base_url = \"https://statsapi.web.nhl.com\"\n",
    "\n",
    "# Iterate over seasons and collect gamelogs\n",
    "for season in seasons:\n",
    "    url = f\"{base_url}/api/v1/schedule?season={season}&gameType=R\"\n",
    "    schedule_response = dict(requests.get(url).json())\n",
    "    for date in schedule_response['dates']:\n",
    "        for game in date['games']:\n",
    "            try:\n",
    "                # Get game id and date\n",
    "                game_id = game['gamePk']\n",
    "                date = datetime.strptime(game['gameDate'], \"%Y-%m-%dT%H:%M:%SZ\").strftime(\"%Y-%m-%d\")\n",
    "\n",
    "                # Get home team score and stats\n",
    "                home_id = game['teams']['home']['team']['id']\n",
    "                home_goals = game['teams']['home']['score']\n",
    "                home_data = [game_id, date, home_id, 'H', home_goals]\n",
    "                home_stats_url = f\"{base_url}/api/v1/teams/{home_id}/stats?date={date}\"\n",
    "                home_stats_response = dict(requests.get(home_stats_url).json())\n",
    "                home_stats_dict = home_stats_response['stats'][0]['splits'][0]['stat']\n",
    "                home_data.extend([home_stats_dict[stat] for stat in team_stats])\n",
    "\n",
    "                # Get away team score and stats\n",
    "                away_id = game['teams']['away']['team']['id']\n",
    "                away_goals = game['teams']['away']['score']\n",
    "                away_data = [game_id, date, away_id, 'A', away_goals]\n",
    "                away_stats_url = f\"{base_url}/api/v1/teams/{away_id}/stats?date={date}\"\n",
    "                away_stats_response = dict(requests.get(away_stats_url).json())\n",
    "                away_stats_dict = away_stats_response['stats'][0]['splits'][0]['stat']\n",
    "                away_data.extend([away_stats_dict[stat] for stat in team_stats])\n",
    "\n",
    "                # Add opponent stats\n",
    "                home_data.extend([away_stats_dict[stat] for stat in opp_stats])\n",
    "                away_data.extend([home_stats_dict[stat] for stat in opp_stats])\n",
    "\n",
    "                # Add to dataframe\n",
    "                nhl_gamelogs.append(home_data)\n",
    "                nhl_gamelogs.append(away_data)\n",
    "            except Exception as e:  # Catch a general exception and print the error message\n",
    "                print(f\"Error with game {game['gamePk']}: {str(e)}\")\n",
    "                continue\n",
    "\n",
    "# Create dataframe of gamelogs\n",
    "nhl_gamelogs_df = pd.DataFrame(nhl_gamelogs, columns=cols)\n",
    "\n",
    "# Save dataframe to CSV\n",
    "nhl_gamelogs_df.to_csv('data/nhl_gamelogs.csv', index=False)"
   ]
  },
  {
   "attachments": {},
   "cell_type": "markdown",
   "metadata": {},
   "source": [
    "Train Models"
   ]
  },
  {
   "cell_type": "code",
   "execution_count": null,
   "metadata": {},
   "outputs": [],
   "source": [
    "# Import the data we will use to make our model\n",
    "nhl_gamelogs = pd.read_csv('data/nhl_gamelogs.csv')\n",
    "\n",
    "# Remove the columns that we do not need to make our model\n",
    "nhl_gamelogs.drop(columns=['game_id','team_id','date','home_away'], inplace=True)\n",
    "\n",
    "# Sample 15% of game_x and game_Y\n",
    "nhl_gamelogs_sample = nhl_gamelogs.sample(frac=0.15, random_state=3)\n",
    "game_X_sample = nhl_gamelogs_sample.drop(columns=['goals'])\n",
    "game_Y_sample = nhl_gamelogs_sample['goals']\n",
    "\n",
    "# Fit the model to the sample and score results\n",
    "kernel = DotProduct() + WhiteKernel()\n",
    "gpr_xs = GaussianProcessRegressor(kernel=kernel, random_state=3)\n",
    "gpr_xs.fit(game_X_sample, game_Y_sample)\n",
    "gpr_xs.score(game_X_sample, game_Y_sample)\n",
    "\n",
    "# Save the model\n",
    "pickle.dump(gpr_xs, open('models\\\\nhl_gpr_model_xs.pkl', 'wb'))"
   ]
  },
  {
   "attachments": {},
   "cell_type": "markdown",
   "metadata": {},
   "source": [
    "Inference Data"
   ]
  },
  {
   "cell_type": "code",
   "execution_count": 22,
   "metadata": {},
   "outputs": [],
   "source": [
    "# Desired stats\n",
    "stat_cols = ['evGGARatio', 'shotsPerGame', 'shotsAllowed', 'shootingPctg', 'savePctg']\n",
    "\n",
    "# Iterate over teams in db and collect season stats\n",
    "league_stats = []\n",
    "for team in db.nhl_teams.find():\n",
    "    team_stats = []\n",
    "    url = f\"https://statsapi.web.nhl.com/api/v1/teams/{team['_id']}/stats\"\n",
    "    stats_response = dict(requests.get(url).json())\n",
    "    stats_dict = stats_response['stats'][0]['splits'][0]['stat']\n",
    "    team_stats.append(team['_id'])\n",
    "    for stat in stat_cols:\n",
    "        team_stats.append(stats_dict[stat])\n",
    "    league_stats.append(team_stats)\n",
    "\n",
    "# Create dataframe of season stats\n",
    "league_stats = pd.DataFrame(league_stats, columns=['team_id']+stat_cols)\n",
    "\n",
    "# Save dataframe to CSV\n",
    "league_stats.to_csv('data/nhl_league_stats.csv', index=False)"
   ]
  },
  {
   "attachments": {},
   "cell_type": "markdown",
   "metadata": {},
   "source": [
    "Make Predictions"
   ]
  },
  {
   "cell_type": "code",
   "execution_count": 21,
   "metadata": {},
   "outputs": [
    {
     "data": {
      "text/plain": [
       "{'CBJ': {'score': 2.802, 'stdev': 1.68, 'win_pct': 0.417},\n",
       " 'BOS': {'score': 3.156, 'stdev': 1.683, 'win_pct': 0.583}}"
      ]
     },
     "execution_count": 21,
     "metadata": {},
     "output_type": "execute_result"
    }
   ],
   "source": [
    "model = pickle.load(open('models\\\\nhl_gpr_model_xs.pkl', 'rb'))\n",
    "\n",
    "# Function to predict score for a game given the stats of the two teams\n",
    "def predict_score(team1, team2):\n",
    "    # Team and opponent stats for inference\n",
    "    team_stats = ['evGGARatio', 'shotsPerGame', 'shootingPctg']\n",
    "    opp_stats = ['shotsAllowed', 'savePctg']\n",
    "    \n",
    "    # Get stats for team 1\n",
    "    team1_id = db.nhl_teams.find_one({'abbr': team1})['_id']\n",
    "    team1_stats = league_stats[league_stats['team_id']==team1_id]\n",
    "    team1_stats.reset_index(inplace=True, drop=True)\n",
    "    team1_off = team1_stats[team_stats]\n",
    "    team1_def = team1_stats[opp_stats]\n",
    "    team1_def.columns = ['oppShotsAllowed', 'oppSavePctg']\n",
    "    \n",
    "    # Get stats for team 2\n",
    "    team2_id = db.nhl_teams.find_one({'abbr': team2})['_id']\n",
    "    team2_stats = league_stats[league_stats['team_id']==team2_id]\n",
    "    team2_stats.reset_index(inplace=True, drop=True)\n",
    "    team2_off = team2_stats[team_stats]\n",
    "    team2_def = team2_stats[opp_stats]\n",
    "    team2_def.columns = ['oppShotsAllowed', 'oppSavePctg']\n",
    "\n",
    "    # Concatenate team and opponent stats\n",
    "    team1_input = pd.concat([team1_off, team2_def], axis=1)\n",
    "    team2_input = pd.concat([team2_off, team1_def], axis=1)\n",
    "\n",
    "    # Predict score for each team\n",
    "    team1_preds = model.predict(team1_input, return_std=True)\n",
    "    team2_preds = model.predict(team2_input, return_std=True)\n",
    "\n",
    "    # Calculate win probability for each team\n",
    "    team1_win_prob = stats.norm.cdf(team1_preds[0][0], loc=team2_preds[0][0], scale=team2_preds[1][0])\n",
    "    team2_win_prob = stats.norm.cdf(team2_preds[0][0], loc=team1_preds[0][0], scale=team1_preds[1][0])\n",
    "\n",
    "    # Create JSON output\n",
    "    json_output = {\n",
    "        team1: {\n",
    "            'score': round(team1_preds[0][0], 3),\n",
    "            'stdev': round(team1_preds[1][0], 3),\n",
    "            'win_pct': round(team1_win_prob, 3),\n",
    "        },\n",
    "        team2: {\n",
    "            'score': round(team2_preds[0][0], 3),\n",
    "            'stdev': round(team2_preds[1][0], 3),\n",
    "            'win_pct': round(team2_win_prob, 3),\n",
    "        }\n",
    "    }\n",
    "    return json_output\n",
    "\n",
    "# Predict score for a game\n",
    "predict_score('CBJ', 'BOS')"
   ]
  }
 ],
 "metadata": {
  "kernelspec": {
   "display_name": ".venv",
   "language": "python",
   "name": "python3"
  },
  "language_info": {
   "codemirror_mode": {
    "name": "ipython",
    "version": 3
   },
   "file_extension": ".py",
   "mimetype": "text/x-python",
   "name": "python",
   "nbconvert_exporter": "python",
   "pygments_lexer": "ipython3",
   "version": "3.10.6"
  },
  "orig_nbformat": 4
 },
 "nbformat": 4,
 "nbformat_minor": 2
}
