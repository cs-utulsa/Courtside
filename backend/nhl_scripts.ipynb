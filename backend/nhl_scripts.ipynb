{
 "cells": [
  {
   "cell_type": "code",
   "execution_count": 2,
   "metadata": {},
   "outputs": [],
   "source": [
    "from db import db\n",
    "\n",
    "import pandas as pd\n",
    "import constants\n",
    "\n",
    "from bs4 import BeautifulSoup\n",
    "import requests\n",
    "import json"
   ]
  },
  {
   "cell_type": "code",
   "execution_count": null,
   "metadata": {},
   "outputs": [],
   "source": [
    "for id in constants.nhl_team_ids:\n",
    "    url = f\"https://statsapi.web.nhl.com/api/v1/teams/{id}/roster\"\n",
    "    team_response = dict(requests.get(url).json())\n",
    "    roster_list = [player['person']['id'] for player in team_response['roster']]\n",
    "    db.nhl_teams.insert_one({\n",
    "        \"_id\": id,\n",
    "        \"roster\": roster_list\n",
    "    })"
   ]
  },
  {
   "cell_type": "code",
   "execution_count": 8,
   "metadata": {},
   "outputs": [],
   "source": [
    "for id in constants.nhl_team_ids:\n",
    "    url = f\"https://statsapi.web.nhl.com/api/v1/teams/{id}\"\n",
    "    team_response = dict(requests.get(url).json())\n",
    "    db.nhl_teams.update_one({'_id': id}, {'$set': {\n",
    "        'name': team_response['teams'][0]['name'],\n",
    "        'abbr': team_response['teams'][0]['abbreviation'],\n",
    "        'short': team_response['teams'][0]['teamName'],\n",
    "        'city': team_response['teams'][0]['locationName']\n",
    "    }})"
   ]
  },
  {
   "cell_type": "code",
   "execution_count": 13,
   "metadata": {},
   "outputs": [
    {
     "ename": "IndexError",
     "evalue": "list index out of range",
     "output_type": "error",
     "traceback": [
      "\u001b[1;31m---------------------------------------------------------------------------\u001b[0m",
      "\u001b[1;31mIndexError\u001b[0m                                Traceback (most recent call last)",
      "\u001b[1;32mc:\\Projects\\Courtside-App\\backend\\nhl_scripts.ipynb Cell 4\u001b[0m in \u001b[0;36m<cell line: 3>\u001b[1;34m()\u001b[0m\n\u001b[0;32m      <a href='vscode-notebook-cell:/c%3A/Projects/Courtside-App/backend/nhl_scripts.ipynb#W5sZmlsZQ%3D%3D?line=0'>1</a>\u001b[0m url_stats \u001b[39m=\u001b[39m \u001b[39mf\u001b[39m\u001b[39m\"\u001b[39m\u001b[39mhttps://statsapi.web.nhl.com/api/v1/people/8473541/stats?stats=statsSingleSeason&season=20222023\u001b[39m\u001b[39m\"\u001b[39m\n\u001b[0;32m      <a href='vscode-notebook-cell:/c%3A/Projects/Courtside-App/backend/nhl_scripts.ipynb#W5sZmlsZQ%3D%3D?line=1'>2</a>\u001b[0m stats_response \u001b[39m=\u001b[39m \u001b[39mdict\u001b[39m(requests\u001b[39m.\u001b[39mget(url_stats)\u001b[39m.\u001b[39mjson())\n\u001b[1;32m----> <a href='vscode-notebook-cell:/c%3A/Projects/Courtside-App/backend/nhl_scripts.ipynb#W5sZmlsZQ%3D%3D?line=2'>3</a>\u001b[0m stats_response[\u001b[39m'\u001b[39;49m\u001b[39mstats\u001b[39;49m\u001b[39m'\u001b[39;49m][\u001b[39m0\u001b[39;49m][\u001b[39m'\u001b[39;49m\u001b[39msplits\u001b[39;49m\u001b[39m'\u001b[39;49m][\u001b[39m0\u001b[39;49m][\u001b[39m'\u001b[39m\u001b[39mstat\u001b[39m\u001b[39m'\u001b[39m][\u001b[39m'\u001b[39m\u001b[39mtimeOnIce\u001b[39m\u001b[39m'\u001b[39m]\n",
      "\u001b[1;31mIndexError\u001b[0m: list index out of range"
     ]
    }
   ],
   "source": [
    "url_stats = f\"https://statsapi.web.nhl.com/api/v1/people/8473541/stats?stats=statsSingleSeason&season=20222023\"\n",
    "stats_response = dict(requests.get(url_stats).json())\n",
    "stats_response['stats'][0]['splits'][0]['stat']['timeOnIce']"
   ]
  },
  {
   "cell_type": "code",
   "execution_count": 14,
   "metadata": {},
   "outputs": [
    {
     "ename": "KeyError",
     "evalue": "'assists'",
     "output_type": "error",
     "traceback": [
      "\u001b[1;31m---------------------------------------------------------------------------\u001b[0m",
      "\u001b[1;31mKeyError\u001b[0m                                  Traceback (most recent call last)",
      "\u001b[1;32mc:\\Projects\\Courtside-App\\backend\\nhl_scripts.ipynb Cell 5\u001b[0m in \u001b[0;36m<cell line: 1>\u001b[1;34m()\u001b[0m\n\u001b[0;32m      <a href='vscode-notebook-cell:/c%3A/Projects/Courtside-App/backend/nhl_scripts.ipynb#W3sZmlsZQ%3D%3D?line=5'>6</a>\u001b[0m stats_response \u001b[39m=\u001b[39m \u001b[39mdict\u001b[39m(requests\u001b[39m.\u001b[39mget(url_stats)\u001b[39m.\u001b[39mjson())\n\u001b[0;32m      <a href='vscode-notebook-cell:/c%3A/Projects/Courtside-App/backend/nhl_scripts.ipynb#W3sZmlsZQ%3D%3D?line=6'>7</a>\u001b[0m \u001b[39mif\u001b[39;00m stats_response[\u001b[39m'\u001b[39m\u001b[39mstats\u001b[39m\u001b[39m'\u001b[39m][\u001b[39m0\u001b[39m][\u001b[39m'\u001b[39m\u001b[39msplits\u001b[39m\u001b[39m'\u001b[39m]:\n\u001b[0;32m      <a href='vscode-notebook-cell:/c%3A/Projects/Courtside-App/backend/nhl_scripts.ipynb#W3sZmlsZQ%3D%3D?line=7'>8</a>\u001b[0m     db\u001b[39m.\u001b[39mnhl_players\u001b[39m.\u001b[39minsert_one({\n\u001b[0;32m      <a href='vscode-notebook-cell:/c%3A/Projects/Courtside-App/backend/nhl_scripts.ipynb#W3sZmlsZQ%3D%3D?line=8'>9</a>\u001b[0m         \u001b[39m\"\u001b[39m\u001b[39m_id\u001b[39m\u001b[39m\"\u001b[39m: player_id,\n\u001b[0;32m     <a href='vscode-notebook-cell:/c%3A/Projects/Courtside-App/backend/nhl_scripts.ipynb#W3sZmlsZQ%3D%3D?line=9'>10</a>\u001b[0m         \u001b[39m\"\u001b[39m\u001b[39mname\u001b[39m\u001b[39m\"\u001b[39m: bio_response[\u001b[39m'\u001b[39m\u001b[39mpeople\u001b[39m\u001b[39m'\u001b[39m][\u001b[39m0\u001b[39m][\u001b[39m'\u001b[39m\u001b[39mfullName\u001b[39m\u001b[39m'\u001b[39m],\n\u001b[0;32m     <a href='vscode-notebook-cell:/c%3A/Projects/Courtside-App/backend/nhl_scripts.ipynb#W3sZmlsZQ%3D%3D?line=10'>11</a>\u001b[0m         \u001b[39m\"\u001b[39m\u001b[39mnumber\u001b[39m\u001b[39m\"\u001b[39m: bio_response[\u001b[39m'\u001b[39m\u001b[39mpeople\u001b[39m\u001b[39m'\u001b[39m][\u001b[39m0\u001b[39m][\u001b[39m'\u001b[39m\u001b[39mprimaryNumber\u001b[39m\u001b[39m'\u001b[39m],\n\u001b[0;32m     <a href='vscode-notebook-cell:/c%3A/Projects/Courtside-App/backend/nhl_scripts.ipynb#W3sZmlsZQ%3D%3D?line=11'>12</a>\u001b[0m         \u001b[39m\"\u001b[39m\u001b[39mage\u001b[39m\u001b[39m\"\u001b[39m: bio_response[\u001b[39m'\u001b[39m\u001b[39mpeople\u001b[39m\u001b[39m'\u001b[39m][\u001b[39m0\u001b[39m][\u001b[39m'\u001b[39m\u001b[39mcurrentAge\u001b[39m\u001b[39m'\u001b[39m],\n\u001b[0;32m     <a href='vscode-notebook-cell:/c%3A/Projects/Courtside-App/backend/nhl_scripts.ipynb#W3sZmlsZQ%3D%3D?line=12'>13</a>\u001b[0m         \u001b[39m\"\u001b[39m\u001b[39mnationality\u001b[39m\u001b[39m\"\u001b[39m: bio_response[\u001b[39m'\u001b[39m\u001b[39mpeople\u001b[39m\u001b[39m'\u001b[39m][\u001b[39m0\u001b[39m][\u001b[39m'\u001b[39m\u001b[39mnationality\u001b[39m\u001b[39m'\u001b[39m],\n\u001b[0;32m     <a href='vscode-notebook-cell:/c%3A/Projects/Courtside-App/backend/nhl_scripts.ipynb#W3sZmlsZQ%3D%3D?line=13'>14</a>\u001b[0m         \u001b[39m\"\u001b[39m\u001b[39mheight\u001b[39m\u001b[39m\"\u001b[39m: bio_response[\u001b[39m'\u001b[39m\u001b[39mpeople\u001b[39m\u001b[39m'\u001b[39m][\u001b[39m0\u001b[39m][\u001b[39m'\u001b[39m\u001b[39mheight\u001b[39m\u001b[39m'\u001b[39m],\n\u001b[0;32m     <a href='vscode-notebook-cell:/c%3A/Projects/Courtside-App/backend/nhl_scripts.ipynb#W3sZmlsZQ%3D%3D?line=14'>15</a>\u001b[0m         \u001b[39m\"\u001b[39m\u001b[39mweight\u001b[39m\u001b[39m\"\u001b[39m: bio_response[\u001b[39m'\u001b[39m\u001b[39mpeople\u001b[39m\u001b[39m'\u001b[39m][\u001b[39m0\u001b[39m][\u001b[39m'\u001b[39m\u001b[39mweight\u001b[39m\u001b[39m'\u001b[39m],\n\u001b[0;32m     <a href='vscode-notebook-cell:/c%3A/Projects/Courtside-App/backend/nhl_scripts.ipynb#W3sZmlsZQ%3D%3D?line=15'>16</a>\u001b[0m         \u001b[39m\"\u001b[39m\u001b[39mcaptain\u001b[39m\u001b[39m\"\u001b[39m: bio_response[\u001b[39m'\u001b[39m\u001b[39mpeople\u001b[39m\u001b[39m'\u001b[39m][\u001b[39m0\u001b[39m][\u001b[39m'\u001b[39m\u001b[39mcaptain\u001b[39m\u001b[39m'\u001b[39m],\n\u001b[0;32m     <a href='vscode-notebook-cell:/c%3A/Projects/Courtside-App/backend/nhl_scripts.ipynb#W3sZmlsZQ%3D%3D?line=16'>17</a>\u001b[0m         \u001b[39m\"\u001b[39m\u001b[39mrookie\u001b[39m\u001b[39m\"\u001b[39m: bio_response[\u001b[39m'\u001b[39m\u001b[39mpeople\u001b[39m\u001b[39m'\u001b[39m][\u001b[39m0\u001b[39m][\u001b[39m'\u001b[39m\u001b[39mrookie\u001b[39m\u001b[39m'\u001b[39m],\n\u001b[0;32m     <a href='vscode-notebook-cell:/c%3A/Projects/Courtside-App/backend/nhl_scripts.ipynb#W3sZmlsZQ%3D%3D?line=17'>18</a>\u001b[0m         \u001b[39m\"\u001b[39m\u001b[39mshoots\u001b[39m\u001b[39m\"\u001b[39m: bio_response[\u001b[39m'\u001b[39m\u001b[39mpeople\u001b[39m\u001b[39m'\u001b[39m][\u001b[39m0\u001b[39m][\u001b[39m'\u001b[39m\u001b[39mshootsCatches\u001b[39m\u001b[39m'\u001b[39m],\n\u001b[0;32m     <a href='vscode-notebook-cell:/c%3A/Projects/Courtside-App/backend/nhl_scripts.ipynb#W3sZmlsZQ%3D%3D?line=18'>19</a>\u001b[0m         \u001b[39m\"\u001b[39m\u001b[39mteam\u001b[39m\u001b[39m\"\u001b[39m: bio_response[\u001b[39m'\u001b[39m\u001b[39mpeople\u001b[39m\u001b[39m'\u001b[39m][\u001b[39m0\u001b[39m][\u001b[39m'\u001b[39m\u001b[39mcurrentTeam\u001b[39m\u001b[39m'\u001b[39m][\u001b[39m'\u001b[39m\u001b[39mid\u001b[39m\u001b[39m'\u001b[39m], \n\u001b[0;32m     <a href='vscode-notebook-cell:/c%3A/Projects/Courtside-App/backend/nhl_scripts.ipynb#W3sZmlsZQ%3D%3D?line=19'>20</a>\u001b[0m         \u001b[39m\"\u001b[39m\u001b[39mpos_name\u001b[39m\u001b[39m\"\u001b[39m: bio_response[\u001b[39m'\u001b[39m\u001b[39mpeople\u001b[39m\u001b[39m'\u001b[39m][\u001b[39m0\u001b[39m][\u001b[39m'\u001b[39m\u001b[39mprimaryPosition\u001b[39m\u001b[39m'\u001b[39m][\u001b[39m'\u001b[39m\u001b[39mname\u001b[39m\u001b[39m'\u001b[39m],\n\u001b[0;32m     <a href='vscode-notebook-cell:/c%3A/Projects/Courtside-App/backend/nhl_scripts.ipynb#W3sZmlsZQ%3D%3D?line=20'>21</a>\u001b[0m         \u001b[39m\"\u001b[39m\u001b[39mpos_type\u001b[39m\u001b[39m\"\u001b[39m: bio_response[\u001b[39m'\u001b[39m\u001b[39mpeople\u001b[39m\u001b[39m'\u001b[39m][\u001b[39m0\u001b[39m][\u001b[39m'\u001b[39m\u001b[39mprimaryPosition\u001b[39m\u001b[39m'\u001b[39m][\u001b[39m'\u001b[39m\u001b[39mtype\u001b[39m\u001b[39m'\u001b[39m],\n\u001b[0;32m     <a href='vscode-notebook-cell:/c%3A/Projects/Courtside-App/backend/nhl_scripts.ipynb#W3sZmlsZQ%3D%3D?line=21'>22</a>\u001b[0m         \u001b[39m\"\u001b[39m\u001b[39mtimeOnIce\u001b[39m\u001b[39m\"\u001b[39m: stats_response[\u001b[39m'\u001b[39m\u001b[39mstats\u001b[39m\u001b[39m'\u001b[39m][\u001b[39m0\u001b[39m][\u001b[39m'\u001b[39m\u001b[39msplits\u001b[39m\u001b[39m'\u001b[39m][\u001b[39m0\u001b[39m][\u001b[39m'\u001b[39m\u001b[39mstat\u001b[39m\u001b[39m'\u001b[39m][\u001b[39m'\u001b[39m\u001b[39mtimeOnIce\u001b[39m\u001b[39m'\u001b[39m],\n\u001b[1;32m---> <a href='vscode-notebook-cell:/c%3A/Projects/Courtside-App/backend/nhl_scripts.ipynb#W3sZmlsZQ%3D%3D?line=22'>23</a>\u001b[0m         \u001b[39m\"\u001b[39m\u001b[39massists\u001b[39m\u001b[39m\"\u001b[39m: stats_response[\u001b[39m'\u001b[39;49m\u001b[39mstats\u001b[39;49m\u001b[39m'\u001b[39;49m][\u001b[39m0\u001b[39;49m][\u001b[39m'\u001b[39;49m\u001b[39msplits\u001b[39;49m\u001b[39m'\u001b[39;49m][\u001b[39m0\u001b[39;49m][\u001b[39m'\u001b[39;49m\u001b[39mstat\u001b[39;49m\u001b[39m'\u001b[39;49m][\u001b[39m'\u001b[39;49m\u001b[39massists\u001b[39;49m\u001b[39m'\u001b[39;49m],\n\u001b[0;32m     <a href='vscode-notebook-cell:/c%3A/Projects/Courtside-App/backend/nhl_scripts.ipynb#W3sZmlsZQ%3D%3D?line=23'>24</a>\u001b[0m         \u001b[39m\"\u001b[39m\u001b[39mgoals\u001b[39m\u001b[39m\"\u001b[39m: stats_response[\u001b[39m'\u001b[39m\u001b[39mstats\u001b[39m\u001b[39m'\u001b[39m][\u001b[39m0\u001b[39m][\u001b[39m'\u001b[39m\u001b[39msplits\u001b[39m\u001b[39m'\u001b[39m][\u001b[39m0\u001b[39m][\u001b[39m'\u001b[39m\u001b[39mstat\u001b[39m\u001b[39m'\u001b[39m][\u001b[39m'\u001b[39m\u001b[39mgoals\u001b[39m\u001b[39m'\u001b[39m],\n\u001b[0;32m     <a href='vscode-notebook-cell:/c%3A/Projects/Courtside-App/backend/nhl_scripts.ipynb#W3sZmlsZQ%3D%3D?line=24'>25</a>\u001b[0m         \u001b[39m\"\u001b[39m\u001b[39mpim\u001b[39m\u001b[39m\"\u001b[39m: stats_response[\u001b[39m'\u001b[39m\u001b[39mstats\u001b[39m\u001b[39m'\u001b[39m][\u001b[39m0\u001b[39m][\u001b[39m'\u001b[39m\u001b[39msplits\u001b[39m\u001b[39m'\u001b[39m][\u001b[39m0\u001b[39m][\u001b[39m'\u001b[39m\u001b[39mstat\u001b[39m\u001b[39m'\u001b[39m][\u001b[39m'\u001b[39m\u001b[39mpim\u001b[39m\u001b[39m'\u001b[39m],\n\u001b[0;32m     <a href='vscode-notebook-cell:/c%3A/Projects/Courtside-App/backend/nhl_scripts.ipynb#W3sZmlsZQ%3D%3D?line=25'>26</a>\u001b[0m         \u001b[39m\"\u001b[39m\u001b[39mshots\u001b[39m\u001b[39m\"\u001b[39m: stats_response[\u001b[39m'\u001b[39m\u001b[39mstats\u001b[39m\u001b[39m'\u001b[39m][\u001b[39m0\u001b[39m][\u001b[39m'\u001b[39m\u001b[39msplits\u001b[39m\u001b[39m'\u001b[39m][\u001b[39m0\u001b[39m][\u001b[39m'\u001b[39m\u001b[39mstat\u001b[39m\u001b[39m'\u001b[39m][\u001b[39m'\u001b[39m\u001b[39mshots\u001b[39m\u001b[39m'\u001b[39m], \n\u001b[0;32m     <a href='vscode-notebook-cell:/c%3A/Projects/Courtside-App/backend/nhl_scripts.ipynb#W3sZmlsZQ%3D%3D?line=26'>27</a>\u001b[0m         \u001b[39m\"\u001b[39m\u001b[39mgames\u001b[39m\u001b[39m\"\u001b[39m: stats_response[\u001b[39m'\u001b[39m\u001b[39mstats\u001b[39m\u001b[39m'\u001b[39m][\u001b[39m0\u001b[39m][\u001b[39m'\u001b[39m\u001b[39msplits\u001b[39m\u001b[39m'\u001b[39m][\u001b[39m0\u001b[39m][\u001b[39m'\u001b[39m\u001b[39mstat\u001b[39m\u001b[39m'\u001b[39m][\u001b[39m'\u001b[39m\u001b[39mgames\u001b[39m\u001b[39m'\u001b[39m],\n\u001b[0;32m     <a href='vscode-notebook-cell:/c%3A/Projects/Courtside-App/backend/nhl_scripts.ipynb#W3sZmlsZQ%3D%3D?line=27'>28</a>\u001b[0m         \u001b[39m\"\u001b[39m\u001b[39mhits\u001b[39m\u001b[39m\"\u001b[39m: stats_response[\u001b[39m'\u001b[39m\u001b[39mstats\u001b[39m\u001b[39m'\u001b[39m][\u001b[39m0\u001b[39m][\u001b[39m'\u001b[39m\u001b[39msplits\u001b[39m\u001b[39m'\u001b[39m][\u001b[39m0\u001b[39m][\u001b[39m'\u001b[39m\u001b[39mstat\u001b[39m\u001b[39m'\u001b[39m][\u001b[39m'\u001b[39m\u001b[39mhits\u001b[39m\u001b[39m'\u001b[39m],\n\u001b[0;32m     <a href='vscode-notebook-cell:/c%3A/Projects/Courtside-App/backend/nhl_scripts.ipynb#W3sZmlsZQ%3D%3D?line=28'>29</a>\u001b[0m         \u001b[39m\"\u001b[39m\u001b[39mpowerPlayGoals\u001b[39m\u001b[39m\"\u001b[39m: stats_response[\u001b[39m'\u001b[39m\u001b[39mstats\u001b[39m\u001b[39m'\u001b[39m][\u001b[39m0\u001b[39m][\u001b[39m'\u001b[39m\u001b[39msplits\u001b[39m\u001b[39m'\u001b[39m][\u001b[39m0\u001b[39m][\u001b[39m'\u001b[39m\u001b[39mstat\u001b[39m\u001b[39m'\u001b[39m][\u001b[39m'\u001b[39m\u001b[39mpowerPlayGoals\u001b[39m\u001b[39m'\u001b[39m],\n\u001b[0;32m     <a href='vscode-notebook-cell:/c%3A/Projects/Courtside-App/backend/nhl_scripts.ipynb#W3sZmlsZQ%3D%3D?line=29'>30</a>\u001b[0m         \u001b[39m\"\u001b[39m\u001b[39mpowerPlayPoints\u001b[39m\u001b[39m\"\u001b[39m: stats_response[\u001b[39m'\u001b[39m\u001b[39mstats\u001b[39m\u001b[39m'\u001b[39m][\u001b[39m0\u001b[39m][\u001b[39m'\u001b[39m\u001b[39msplits\u001b[39m\u001b[39m'\u001b[39m][\u001b[39m0\u001b[39m][\u001b[39m'\u001b[39m\u001b[39mstat\u001b[39m\u001b[39m'\u001b[39m][\u001b[39m'\u001b[39m\u001b[39mpowerPlayPoints\u001b[39m\u001b[39m'\u001b[39m],\n\u001b[0;32m     <a href='vscode-notebook-cell:/c%3A/Projects/Courtside-App/backend/nhl_scripts.ipynb#W3sZmlsZQ%3D%3D?line=30'>31</a>\u001b[0m         \u001b[39m\"\u001b[39m\u001b[39mpowerPlayTimeOnIce\u001b[39m\u001b[39m\"\u001b[39m: stats_response[\u001b[39m'\u001b[39m\u001b[39mstats\u001b[39m\u001b[39m'\u001b[39m][\u001b[39m0\u001b[39m][\u001b[39m'\u001b[39m\u001b[39msplits\u001b[39m\u001b[39m'\u001b[39m][\u001b[39m0\u001b[39m][\u001b[39m'\u001b[39m\u001b[39mstat\u001b[39m\u001b[39m'\u001b[39m][\u001b[39m'\u001b[39m\u001b[39mpowerPlayTimeOnIce\u001b[39m\u001b[39m'\u001b[39m],\n\u001b[0;32m     <a href='vscode-notebook-cell:/c%3A/Projects/Courtside-App/backend/nhl_scripts.ipynb#W3sZmlsZQ%3D%3D?line=31'>32</a>\u001b[0m         \u001b[39m\"\u001b[39m\u001b[39mevenTimeOnIce\u001b[39m\u001b[39m\"\u001b[39m: stats_response[\u001b[39m'\u001b[39m\u001b[39mstats\u001b[39m\u001b[39m'\u001b[39m][\u001b[39m0\u001b[39m][\u001b[39m'\u001b[39m\u001b[39msplits\u001b[39m\u001b[39m'\u001b[39m][\u001b[39m0\u001b[39m][\u001b[39m'\u001b[39m\u001b[39mstat\u001b[39m\u001b[39m'\u001b[39m][\u001b[39m'\u001b[39m\u001b[39mevenTimeOnIce\u001b[39m\u001b[39m'\u001b[39m],\n\u001b[0;32m     <a href='vscode-notebook-cell:/c%3A/Projects/Courtside-App/backend/nhl_scripts.ipynb#W3sZmlsZQ%3D%3D?line=32'>33</a>\u001b[0m         \u001b[39m\"\u001b[39m\u001b[39mpenaltyMinutes\u001b[39m\u001b[39m\"\u001b[39m: stats_response[\u001b[39m'\u001b[39m\u001b[39mstats\u001b[39m\u001b[39m'\u001b[39m][\u001b[39m0\u001b[39m][\u001b[39m'\u001b[39m\u001b[39msplits\u001b[39m\u001b[39m'\u001b[39m][\u001b[39m0\u001b[39m][\u001b[39m'\u001b[39m\u001b[39mstat\u001b[39m\u001b[39m'\u001b[39m][\u001b[39m'\u001b[39m\u001b[39mpenaltyMinutes\u001b[39m\u001b[39m'\u001b[39m],\n\u001b[0;32m     <a href='vscode-notebook-cell:/c%3A/Projects/Courtside-App/backend/nhl_scripts.ipynb#W3sZmlsZQ%3D%3D?line=33'>34</a>\u001b[0m         \u001b[39m\"\u001b[39m\u001b[39mfaceOffPct\u001b[39m\u001b[39m\"\u001b[39m: stats_response[\u001b[39m'\u001b[39m\u001b[39mstats\u001b[39m\u001b[39m'\u001b[39m][\u001b[39m0\u001b[39m][\u001b[39m'\u001b[39m\u001b[39msplits\u001b[39m\u001b[39m'\u001b[39m][\u001b[39m0\u001b[39m][\u001b[39m'\u001b[39m\u001b[39mstat\u001b[39m\u001b[39m'\u001b[39m][\u001b[39m'\u001b[39m\u001b[39mfaceOffPct\u001b[39m\u001b[39m'\u001b[39m],\n\u001b[0;32m     <a href='vscode-notebook-cell:/c%3A/Projects/Courtside-App/backend/nhl_scripts.ipynb#W3sZmlsZQ%3D%3D?line=34'>35</a>\u001b[0m         \u001b[39m\"\u001b[39m\u001b[39mshotPct\u001b[39m\u001b[39m\"\u001b[39m: stats_response[\u001b[39m'\u001b[39m\u001b[39mstats\u001b[39m\u001b[39m'\u001b[39m][\u001b[39m0\u001b[39m][\u001b[39m'\u001b[39m\u001b[39msplits\u001b[39m\u001b[39m'\u001b[39m][\u001b[39m0\u001b[39m][\u001b[39m'\u001b[39m\u001b[39mstat\u001b[39m\u001b[39m'\u001b[39m][\u001b[39m'\u001b[39m\u001b[39mshotPct\u001b[39m\u001b[39m'\u001b[39m],\n\u001b[0;32m     <a href='vscode-notebook-cell:/c%3A/Projects/Courtside-App/backend/nhl_scripts.ipynb#W3sZmlsZQ%3D%3D?line=35'>36</a>\u001b[0m         \u001b[39m\"\u001b[39m\u001b[39mgameWinningGoals\u001b[39m\u001b[39m\"\u001b[39m: stats_response[\u001b[39m'\u001b[39m\u001b[39mstats\u001b[39m\u001b[39m'\u001b[39m][\u001b[39m0\u001b[39m][\u001b[39m'\u001b[39m\u001b[39msplits\u001b[39m\u001b[39m'\u001b[39m][\u001b[39m0\u001b[39m][\u001b[39m'\u001b[39m\u001b[39mstat\u001b[39m\u001b[39m'\u001b[39m][\u001b[39m'\u001b[39m\u001b[39mgameWinningGoals\u001b[39m\u001b[39m'\u001b[39m],\n\u001b[0;32m     <a href='vscode-notebook-cell:/c%3A/Projects/Courtside-App/backend/nhl_scripts.ipynb#W3sZmlsZQ%3D%3D?line=36'>37</a>\u001b[0m         \u001b[39m\"\u001b[39m\u001b[39moverTimeGoals\u001b[39m\u001b[39m\"\u001b[39m: stats_response[\u001b[39m'\u001b[39m\u001b[39mstats\u001b[39m\u001b[39m'\u001b[39m][\u001b[39m0\u001b[39m][\u001b[39m'\u001b[39m\u001b[39msplits\u001b[39m\u001b[39m'\u001b[39m][\u001b[39m0\u001b[39m][\u001b[39m'\u001b[39m\u001b[39mstat\u001b[39m\u001b[39m'\u001b[39m][\u001b[39m'\u001b[39m\u001b[39moverTimeGoals\u001b[39m\u001b[39m'\u001b[39m],\n\u001b[0;32m     <a href='vscode-notebook-cell:/c%3A/Projects/Courtside-App/backend/nhl_scripts.ipynb#W3sZmlsZQ%3D%3D?line=37'>38</a>\u001b[0m         \u001b[39m\"\u001b[39m\u001b[39mshortHandedGoals\u001b[39m\u001b[39m\"\u001b[39m: stats_response[\u001b[39m'\u001b[39m\u001b[39mstats\u001b[39m\u001b[39m'\u001b[39m][\u001b[39m0\u001b[39m][\u001b[39m'\u001b[39m\u001b[39msplits\u001b[39m\u001b[39m'\u001b[39m][\u001b[39m0\u001b[39m][\u001b[39m'\u001b[39m\u001b[39mstat\u001b[39m\u001b[39m'\u001b[39m][\u001b[39m'\u001b[39m\u001b[39mshortHandedGoals\u001b[39m\u001b[39m'\u001b[39m],\n\u001b[0;32m     <a href='vscode-notebook-cell:/c%3A/Projects/Courtside-App/backend/nhl_scripts.ipynb#W3sZmlsZQ%3D%3D?line=38'>39</a>\u001b[0m         \u001b[39m\"\u001b[39m\u001b[39mshortHandedPoints\u001b[39m\u001b[39m\"\u001b[39m: stats_response[\u001b[39m'\u001b[39m\u001b[39mstats\u001b[39m\u001b[39m'\u001b[39m][\u001b[39m0\u001b[39m][\u001b[39m'\u001b[39m\u001b[39msplits\u001b[39m\u001b[39m'\u001b[39m][\u001b[39m0\u001b[39m][\u001b[39m'\u001b[39m\u001b[39mstat\u001b[39m\u001b[39m'\u001b[39m][\u001b[39m'\u001b[39m\u001b[39mshortHandedPoints\u001b[39m\u001b[39m'\u001b[39m],\n\u001b[0;32m     <a href='vscode-notebook-cell:/c%3A/Projects/Courtside-App/backend/nhl_scripts.ipynb#W3sZmlsZQ%3D%3D?line=39'>40</a>\u001b[0m         \u001b[39m\"\u001b[39m\u001b[39mshortHandedTimeOnIce\u001b[39m\u001b[39m\"\u001b[39m: stats_response[\u001b[39m'\u001b[39m\u001b[39mstats\u001b[39m\u001b[39m'\u001b[39m][\u001b[39m0\u001b[39m][\u001b[39m'\u001b[39m\u001b[39msplits\u001b[39m\u001b[39m'\u001b[39m][\u001b[39m0\u001b[39m][\u001b[39m'\u001b[39m\u001b[39mstat\u001b[39m\u001b[39m'\u001b[39m][\u001b[39m'\u001b[39m\u001b[39mshortHandedTimeOnIce\u001b[39m\u001b[39m'\u001b[39m],\n\u001b[0;32m     <a href='vscode-notebook-cell:/c%3A/Projects/Courtside-App/backend/nhl_scripts.ipynb#W3sZmlsZQ%3D%3D?line=40'>41</a>\u001b[0m         \u001b[39m\"\u001b[39m\u001b[39mblocked\u001b[39m\u001b[39m\"\u001b[39m: stats_response[\u001b[39m'\u001b[39m\u001b[39mstats\u001b[39m\u001b[39m'\u001b[39m][\u001b[39m0\u001b[39m][\u001b[39m'\u001b[39m\u001b[39msplits\u001b[39m\u001b[39m'\u001b[39m][\u001b[39m0\u001b[39m][\u001b[39m'\u001b[39m\u001b[39mstat\u001b[39m\u001b[39m'\u001b[39m][\u001b[39m'\u001b[39m\u001b[39mblocked\u001b[39m\u001b[39m'\u001b[39m],\n\u001b[0;32m     <a href='vscode-notebook-cell:/c%3A/Projects/Courtside-App/backend/nhl_scripts.ipynb#W3sZmlsZQ%3D%3D?line=41'>42</a>\u001b[0m         \u001b[39m\"\u001b[39m\u001b[39mplusMinus\u001b[39m\u001b[39m\"\u001b[39m: stats_response[\u001b[39m'\u001b[39m\u001b[39mstats\u001b[39m\u001b[39m'\u001b[39m][\u001b[39m0\u001b[39m][\u001b[39m'\u001b[39m\u001b[39msplits\u001b[39m\u001b[39m'\u001b[39m][\u001b[39m0\u001b[39m][\u001b[39m'\u001b[39m\u001b[39mstat\u001b[39m\u001b[39m'\u001b[39m][\u001b[39m'\u001b[39m\u001b[39mplusMinus\u001b[39m\u001b[39m'\u001b[39m],\n\u001b[0;32m     <a href='vscode-notebook-cell:/c%3A/Projects/Courtside-App/backend/nhl_scripts.ipynb#W3sZmlsZQ%3D%3D?line=42'>43</a>\u001b[0m         \u001b[39m\"\u001b[39m\u001b[39mpoints\u001b[39m\u001b[39m\"\u001b[39m: stats_response[\u001b[39m'\u001b[39m\u001b[39mstats\u001b[39m\u001b[39m'\u001b[39m][\u001b[39m0\u001b[39m][\u001b[39m'\u001b[39m\u001b[39msplits\u001b[39m\u001b[39m'\u001b[39m][\u001b[39m0\u001b[39m][\u001b[39m'\u001b[39m\u001b[39mstat\u001b[39m\u001b[39m'\u001b[39m][\u001b[39m'\u001b[39m\u001b[39mpoints\u001b[39m\u001b[39m'\u001b[39m],\n\u001b[0;32m     <a href='vscode-notebook-cell:/c%3A/Projects/Courtside-App/backend/nhl_scripts.ipynb#W3sZmlsZQ%3D%3D?line=43'>44</a>\u001b[0m         \u001b[39m\"\u001b[39m\u001b[39mshifts\u001b[39m\u001b[39m\"\u001b[39m: stats_response[\u001b[39m'\u001b[39m\u001b[39mstats\u001b[39m\u001b[39m'\u001b[39m][\u001b[39m0\u001b[39m][\u001b[39m'\u001b[39m\u001b[39msplits\u001b[39m\u001b[39m'\u001b[39m][\u001b[39m0\u001b[39m][\u001b[39m'\u001b[39m\u001b[39mstat\u001b[39m\u001b[39m'\u001b[39m][\u001b[39m'\u001b[39m\u001b[39mshifts\u001b[39m\u001b[39m'\u001b[39m],\n\u001b[0;32m     <a href='vscode-notebook-cell:/c%3A/Projects/Courtside-App/backend/nhl_scripts.ipynb#W3sZmlsZQ%3D%3D?line=44'>45</a>\u001b[0m         \u001b[39m\"\u001b[39m\u001b[39mtimeOnIcePerGame\u001b[39m\u001b[39m\"\u001b[39m: stats_response[\u001b[39m'\u001b[39m\u001b[39mstats\u001b[39m\u001b[39m'\u001b[39m][\u001b[39m0\u001b[39m][\u001b[39m'\u001b[39m\u001b[39msplits\u001b[39m\u001b[39m'\u001b[39m][\u001b[39m0\u001b[39m][\u001b[39m'\u001b[39m\u001b[39mstat\u001b[39m\u001b[39m'\u001b[39m][\u001b[39m'\u001b[39m\u001b[39mtimeOnIcePerGame\u001b[39m\u001b[39m'\u001b[39m],\n\u001b[0;32m     <a href='vscode-notebook-cell:/c%3A/Projects/Courtside-App/backend/nhl_scripts.ipynb#W3sZmlsZQ%3D%3D?line=45'>46</a>\u001b[0m         \u001b[39m\"\u001b[39m\u001b[39mevenTimeOnIcePerGame\u001b[39m\u001b[39m\"\u001b[39m: stats_response[\u001b[39m'\u001b[39m\u001b[39mstats\u001b[39m\u001b[39m'\u001b[39m][\u001b[39m0\u001b[39m][\u001b[39m'\u001b[39m\u001b[39msplits\u001b[39m\u001b[39m'\u001b[39m][\u001b[39m0\u001b[39m][\u001b[39m'\u001b[39m\u001b[39mstat\u001b[39m\u001b[39m'\u001b[39m][\u001b[39m'\u001b[39m\u001b[39mevenTimeOnIcePerGame\u001b[39m\u001b[39m'\u001b[39m],\n\u001b[0;32m     <a href='vscode-notebook-cell:/c%3A/Projects/Courtside-App/backend/nhl_scripts.ipynb#W3sZmlsZQ%3D%3D?line=46'>47</a>\u001b[0m         \u001b[39m\"\u001b[39m\u001b[39mshortHandedTimeOnIcePerGame\u001b[39m\u001b[39m\"\u001b[39m: stats_response[\u001b[39m'\u001b[39m\u001b[39mstats\u001b[39m\u001b[39m'\u001b[39m][\u001b[39m0\u001b[39m][\u001b[39m'\u001b[39m\u001b[39msplits\u001b[39m\u001b[39m'\u001b[39m][\u001b[39m0\u001b[39m][\u001b[39m'\u001b[39m\u001b[39mstat\u001b[39m\u001b[39m'\u001b[39m][\u001b[39m'\u001b[39m\u001b[39mshortHandedTimeOnIcePerGame\u001b[39m\u001b[39m'\u001b[39m],\n\u001b[0;32m     <a href='vscode-notebook-cell:/c%3A/Projects/Courtside-App/backend/nhl_scripts.ipynb#W3sZmlsZQ%3D%3D?line=47'>48</a>\u001b[0m         \u001b[39m\"\u001b[39m\u001b[39mpowerPlayTimeOnIcePerGame\u001b[39m\u001b[39m\"\u001b[39m: stats_response[\u001b[39m'\u001b[39m\u001b[39mstats\u001b[39m\u001b[39m'\u001b[39m][\u001b[39m0\u001b[39m][\u001b[39m'\u001b[39m\u001b[39msplits\u001b[39m\u001b[39m'\u001b[39m][\u001b[39m0\u001b[39m][\u001b[39m'\u001b[39m\u001b[39mstat\u001b[39m\u001b[39m'\u001b[39m][\u001b[39m'\u001b[39m\u001b[39mpowerPlayTimeOnIcePerGame\u001b[39m\u001b[39m'\u001b[39m]\n\u001b[0;32m     <a href='vscode-notebook-cell:/c%3A/Projects/Courtside-App/backend/nhl_scripts.ipynb#W3sZmlsZQ%3D%3D?line=48'>49</a>\u001b[0m     })\n\u001b[0;32m     <a href='vscode-notebook-cell:/c%3A/Projects/Courtside-App/backend/nhl_scripts.ipynb#W3sZmlsZQ%3D%3D?line=49'>50</a>\u001b[0m \u001b[39melse\u001b[39;00m:\n\u001b[0;32m     <a href='vscode-notebook-cell:/c%3A/Projects/Courtside-App/backend/nhl_scripts.ipynb#W3sZmlsZQ%3D%3D?line=50'>51</a>\u001b[0m     db\u001b[39m.\u001b[39mnhl_players\u001b[39m.\u001b[39minsert_one({\n\u001b[0;32m     <a href='vscode-notebook-cell:/c%3A/Projects/Courtside-App/backend/nhl_scripts.ipynb#W3sZmlsZQ%3D%3D?line=51'>52</a>\u001b[0m         \u001b[39m\"\u001b[39m\u001b[39m_id\u001b[39m\u001b[39m\"\u001b[39m: player_id,\n\u001b[0;32m     <a href='vscode-notebook-cell:/c%3A/Projects/Courtside-App/backend/nhl_scripts.ipynb#W3sZmlsZQ%3D%3D?line=52'>53</a>\u001b[0m         \u001b[39m\"\u001b[39m\u001b[39mname\u001b[39m\u001b[39m\"\u001b[39m: bio_response[\u001b[39m'\u001b[39m\u001b[39mpeople\u001b[39m\u001b[39m'\u001b[39m][\u001b[39m0\u001b[39m][\u001b[39m'\u001b[39m\u001b[39mfullName\u001b[39m\u001b[39m'\u001b[39m],\n\u001b[1;32m   (...)\u001b[0m\n\u001b[0;32m     <a href='vscode-notebook-cell:/c%3A/Projects/Courtside-App/backend/nhl_scripts.ipynb#W3sZmlsZQ%3D%3D?line=63'>64</a>\u001b[0m         \u001b[39m\"\u001b[39m\u001b[39mpos_type\u001b[39m\u001b[39m\"\u001b[39m: bio_response[\u001b[39m'\u001b[39m\u001b[39mpeople\u001b[39m\u001b[39m'\u001b[39m][\u001b[39m0\u001b[39m][\u001b[39m'\u001b[39m\u001b[39mprimaryPosition\u001b[39m\u001b[39m'\u001b[39m][\u001b[39m'\u001b[39m\u001b[39mtype\u001b[39m\u001b[39m'\u001b[39m],\n\u001b[0;32m     <a href='vscode-notebook-cell:/c%3A/Projects/Courtside-App/backend/nhl_scripts.ipynb#W3sZmlsZQ%3D%3D?line=64'>65</a>\u001b[0m     })\n",
      "\u001b[1;31mKeyError\u001b[0m: 'assists'"
     ]
    }
   ],
   "source": [
    "for team in db.nhl_teams.find():\n",
    "    for player_id in team['roster']:\n",
    "        url_bio = f\"https://statsapi.web.nhl.com/api/v1/people/{player_id}\"\n",
    "        bio_response = dict(requests.get(url_bio).json())\n",
    "        url_stats = f\"https://statsapi.web.nhl.com/api/v1/people/{player_id}/stats?stats=statsSingleSeason&season=20222023\"\n",
    "        stats_response = dict(requests.get(url_stats).json())\n",
    "        if stats_response['stats'][0]['splits']:\n",
    "            db.nhl_players.insert_one({\n",
    "                \"_id\": player_id,\n",
    "                \"name\": bio_response['people'][0]['fullName'],\n",
    "                \"number\": bio_response['people'][0]['primaryNumber'],\n",
    "                \"age\": bio_response['people'][0]['currentAge'],\n",
    "                \"nationality\": bio_response['people'][0]['nationality'],\n",
    "                \"height\": bio_response['people'][0]['height'],\n",
    "                \"weight\": bio_response['people'][0]['weight'],\n",
    "                \"captain\": bio_response['people'][0]['captain'],\n",
    "                \"rookie\": bio_response['people'][0]['rookie'],\n",
    "                \"shoots\": bio_response['people'][0]['shootsCatches'],\n",
    "                \"team\": bio_response['people'][0]['currentTeam']['id'], \n",
    "                \"pos_name\": bio_response['people'][0]['primaryPosition']['name'],\n",
    "                \"pos_type\": bio_response['people'][0]['primaryPosition']['type'],\n",
    "                \"timeOnIce\": stats_response['stats'][0]['splits'][0]['stat']['timeOnIce'],\n",
    "                \"assists\": stats_response['stats'][0]['splits'][0]['stat']['assists'],\n",
    "                \"goals\": stats_response['stats'][0]['splits'][0]['stat']['goals'],\n",
    "                \"pim\": stats_response['stats'][0]['splits'][0]['stat']['pim'],\n",
    "                \"shots\": stats_response['stats'][0]['splits'][0]['stat']['shots'], \n",
    "                \"games\": stats_response['stats'][0]['splits'][0]['stat']['games'],\n",
    "                \"hits\": stats_response['stats'][0]['splits'][0]['stat']['hits'],\n",
    "                \"powerPlayGoals\": stats_response['stats'][0]['splits'][0]['stat']['powerPlayGoals'],\n",
    "                \"powerPlayPoints\": stats_response['stats'][0]['splits'][0]['stat']['powerPlayPoints'],\n",
    "                \"powerPlayTimeOnIce\": stats_response['stats'][0]['splits'][0]['stat']['powerPlayTimeOnIce'],\n",
    "                \"evenTimeOnIce\": stats_response['stats'][0]['splits'][0]['stat']['evenTimeOnIce'],\n",
    "                \"penaltyMinutes\": stats_response['stats'][0]['splits'][0]['stat']['penaltyMinutes'],\n",
    "                \"faceOffPct\": stats_response['stats'][0]['splits'][0]['stat']['faceOffPct'],\n",
    "                \"shotPct\": stats_response['stats'][0]['splits'][0]['stat']['shotPct'],\n",
    "                \"gameWinningGoals\": stats_response['stats'][0]['splits'][0]['stat']['gameWinningGoals'],\n",
    "                \"overTimeGoals\": stats_response['stats'][0]['splits'][0]['stat']['overTimeGoals'],\n",
    "                \"shortHandedGoals\": stats_response['stats'][0]['splits'][0]['stat']['shortHandedGoals'],\n",
    "                \"shortHandedPoints\": stats_response['stats'][0]['splits'][0]['stat']['shortHandedPoints'],\n",
    "                \"shortHandedTimeOnIce\": stats_response['stats'][0]['splits'][0]['stat']['shortHandedTimeOnIce'],\n",
    "                \"blocked\": stats_response['stats'][0]['splits'][0]['stat']['blocked'],\n",
    "                \"plusMinus\": stats_response['stats'][0]['splits'][0]['stat']['plusMinus'],\n",
    "                \"points\": stats_response['stats'][0]['splits'][0]['stat']['points'],\n",
    "                \"shifts\": stats_response['stats'][0]['splits'][0]['stat']['shifts'],\n",
    "                \"timeOnIcePerGame\": stats_response['stats'][0]['splits'][0]['stat']['timeOnIcePerGame'],\n",
    "                \"evenTimeOnIcePerGame\": stats_response['stats'][0]['splits'][0]['stat']['evenTimeOnIcePerGame'],\n",
    "                \"shortHandedTimeOnIcePerGame\": stats_response['stats'][0]['splits'][0]['stat']['shortHandedTimeOnIcePerGame'],\n",
    "                \"powerPlayTimeOnIcePerGame\": stats_response['stats'][0]['splits'][0]['stat']['powerPlayTimeOnIcePerGame']\n",
    "            })\n",
    "        else:\n",
    "            db.nhl_players.insert_one({\n",
    "                \"_id\": player_id,\n",
    "                \"name\": bio_response['people'][0]['fullName'],\n",
    "                \"number\": bio_response['people'][0]['primaryNumber'],\n",
    "                \"age\": bio_response['people'][0]['currentAge'],\n",
    "                \"nationality\": bio_response['people'][0]['nationality'],\n",
    "                \"height\": bio_response['people'][0]['height'],\n",
    "                \"weight\": bio_response['people'][0]['weight'],\n",
    "                \"captain\": bio_response['people'][0]['captain'],\n",
    "                \"rookie\": bio_response['people'][0]['rookie'],\n",
    "                \"shoots\": bio_response['people'][0]['shootsCatches'],\n",
    "                \"team\": bio_response['people'][0]['currentTeam']['id'], \n",
    "                \"pos_name\": bio_response['people'][0]['primaryPosition']['name'],\n",
    "                \"pos_type\": bio_response['people'][0]['primaryPosition']['type'],\n",
    "            })"
   ]
  },
  {
   "cell_type": "code",
   "execution_count": null,
   "metadata": {},
   "outputs": [],
   "source": []
  }
 ],
 "metadata": {
  "kernelspec": {
   "display_name": "Python 3",
   "language": "python",
   "name": "python3"
  },
  "language_info": {
   "codemirror_mode": {
    "name": "ipython",
    "version": 3
   },
   "file_extension": ".py",
   "mimetype": "text/x-python",
   "name": "python",
   "nbconvert_exporter": "python",
   "pygments_lexer": "ipython3",
   "version": "3.10.6"
  },
  "orig_nbformat": 4,
  "vscode": {
   "interpreter": {
    "hash": "994d14d63e541b056dd7ae0f1060dfb8e5457c6d5e65002b954917a2e9efbb9d"
   }
  }
 },
 "nbformat": 4,
 "nbformat_minor": 2
}
