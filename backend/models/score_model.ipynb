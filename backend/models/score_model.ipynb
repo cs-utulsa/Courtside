{
 "cells": [
  {
   "attachments": {},
   "cell_type": "markdown",
   "metadata": {},
   "source": [
    "Package Imports"
   ]
  },
  {
   "cell_type": "code",
   "execution_count": 2,
   "metadata": {},
   "outputs": [],
   "source": [
    "import pandas as pd\n",
    "import constants\n",
    "from nba_api.stats.endpoints import teamdashboardbylastngames\n",
    "from nba_api.stats.endpoints import teamgamelogs\n",
    "from nba_api.stats.endpoints import leaguedashteamstats"
   ]
  },
  {
   "attachments": {},
   "cell_type": "markdown",
   "metadata": {},
   "source": [
    "Collect Team Dataset"
   ]
  },
  {
   "cell_type": "code",
   "execution_count": null,
   "metadata": {},
   "outputs": [],
   "source": [
    "# Set team id and team abbr\n",
    "team_abbr = 'OKC'\n",
    "team_id = 1610612760\n",
    "\n",
    "# Function to determine if game was home or away\n",
    "def home_away(row):\n",
    "    if row['MATCHUP'].find('@') == -1:\n",
    "        return 'H'\n",
    "    else:\n",
    "        return 'A'\n",
    "\n",
    "# Loop through all seasons and collect gamelogs\n",
    "team_gamelogs = []\n",
    "for year in constants.gamelog_seasons:\n",
    "    try:\n",
    "        temp_df = teamgamelogs.TeamGameLogs(\n",
    "                    team_id_nullable=team_id, \n",
    "                    season_nullable=year,\n",
    "                    measure_type_player_game_logs_nullable='Advanced',\n",
    "                    per_mode_simple_nullable='Per48',\n",
    "                    ).get_data_frames()[0]\n",
    "        temp_df.sort_values(by='GAME_DATE', inplace=True)\n",
    "        temp_df['GAME_DATE'] = pd.to_datetime(temp_df['GAME_DATE'])\n",
    "        temp_df['GAME_DATE'] = temp_df['GAME_DATE'].dt.strftime('%Y-%m-%d')\n",
    "        temp_df['HOME_AWAY'] = temp_df.apply(home_away, axis=1)\n",
    "        temp_df = temp_df[['TEAM_ID','GAME_ID','GAME_DATE','HOME_AWAY','OFF_RATING','DEF_RATING','PACE','PIE']]\n",
    "        team_gamelogs.append(temp_df)\n",
    "        print(f\"{team_abbr} Advanced: {year} Done\")\n",
    "    except:\n",
    "        print(f\"{team_abbr} Advanced: {year} Error\")\n",
    "        continue\n",
    "team_gamelogs = pd.concat(team_gamelogs)\n",
    "team_gamelogs.columns = ['team_id','game_id','game_date','home_away','OFF_RATING','DEF_RATING','PACE_','PIE_']\n",
    "\n",
    "# Collect points scored for each game\n",
    "team_scores = []\n",
    "for year in constants.gamelog_seasons:\n",
    "    try:\n",
    "        temp_df = teamgamelogs.TeamGameLogs(\n",
    "                    team_id_nullable=team_id, \n",
    "                    season_nullable=year,\n",
    "                    per_mode_simple_nullable='Per48',\n",
    "                    ).get_data_frames()[0]\n",
    "        temp_df.sort_values(by='GAME_DATE', inplace=True)\n",
    "        temp_df['PTS'] = temp_df['PTS'].astype(int)\n",
    "        temp_df = temp_df[['TEAM_ID','GAME_ID','PTS']]\n",
    "        team_scores.append(temp_df)\n",
    "        print(f\"{team_abbr} Score: {year} Done\")\n",
    "    except:\n",
    "        print(f\"{team_abbr} Score: {year} Error\")\n",
    "        continue\n",
    "team_scores = pd.concat(team_scores)\n",
    "team_scores.columns = ['team_id','game_id','pts']\n",
    "\n",
    "# Merge gamelogs/scores and calculate rolling averages\n",
    "team_score_df = team_gamelogs.copy()\n",
    "team_score_df = team_score_df.merge(team_scores, how='left', on=['team_id','game_id'])\n",
    "team_score_df['off_rtg'] = round(team_score_df['OFF_RATING'].rolling(82).mean(), 3)\n",
    "team_score_df['off_rtg_10'] = round(team_score_df['OFF_RATING'].rolling(10).mean(), 3)\n",
    "team_score_df['def_rtg'] = round(team_score_df['DEF_RATING'].rolling(82).mean(), 3)\n",
    "team_score_df['def_rtg_10'] = round(team_score_df['DEF_RATING'].rolling(10).mean(), 3)\n",
    "team_score_df['pace'] = round(team_score_df['PACE_'].rolling(82).mean(), 3)\n",
    "team_score_df['pace_10'] = round(team_score_df['PACE_'].rolling(10).mean(), 3)\n",
    "team_score_df['pie'] = round(team_score_df['PIE_'].rolling(82).mean(), 3)\n",
    "team_score_df['pie_10'] = round(team_score_df['PIE_'].rolling(10).mean(), 3)\n",
    "team_score_df = team_score_df[team_score_df['game_date'] >= '2010-09-01']\n",
    "team_score_df = team_score_df.drop(columns=['OFF_RATING','DEF_RATING','PACE_','PIE_'])\n",
    "team_score_df.reset_index(drop=True, inplace=True)\n",
    "team_score_df.to_csv(f\"data\\\\gamelogs\\\\{team_abbr}_gamelogs.csv\", index=False)\n",
    "print(f\"{team_abbr} Done!\")"
   ]
  },
  {
   "cell_type": "code",
   "execution_count": null,
   "metadata": {},
   "outputs": [],
   "source": [
    "import os\n",
    "\n",
    "# Concat all team gamelogs together into one dataframe\n",
    "files = os.listdir('data\\\\gamelogs')\n",
    "gamelogs = []\n",
    "for file in files:\n",
    "    temp_df = pd.read_csv(f\"data\\\\gamelogs\\\\{file}\")\n",
    "    gamelogs.append(temp_df)\n",
    "    \n",
    "league_gamelogs = pd.concat(gamelogs)\n",
    "league_gamelogs.to_csv('data\\\\gamelogs\\\\league_gamelogs.csv', index=False)"
   ]
  },
  {
   "cell_type": "code",
   "execution_count": 34,
   "metadata": {},
   "outputs": [],
   "source": [
    "# Get opponent defensive rating and pace for each game\n",
    "league_gamelogs = pd.read_csv('data\\\\league_gamelogs.csv')\n",
    "league_gamelogs_merge = league_gamelogs.copy()\n",
    "league_gamelogs_merge = league_gamelogs_merge[['team_id','game_id','def_rtg','def_rtg_10','pace','pace_10']]\n",
    "league_gamelogs = league_gamelogs.merge(league_gamelogs_merge, how='left', on=['game_id'], suffixes=('','_opp'))\n",
    "league_gamelogs = league_gamelogs[league_gamelogs['team_id'] != league_gamelogs['team_id_opp']]\n",
    "league_gamelogs.drop(columns=['def_rtg','def_rtg_10','team_id_opp'], inplace=True)\n",
    "league_gamelogs = league_gamelogs.rename(columns={'def_rtg_opp':'opp_def_rtg',\n",
    "                                                  'def_rtg_10_opp':'opp_def_rtg_10',\n",
    "                                                  'pace_opp':'opp_pace',\n",
    "                                                  'pace_10_opp':'opp_pace_10'})\n",
    "league_gamelogs.to_csv('data\\\\league_gamelogs_v2.csv', index=False)"
   ]
  },
  {
   "attachments": {},
   "cell_type": "markdown",
   "metadata": {},
   "source": [
    "Train Model"
   ]
  },
  {
   "cell_type": "code",
   "execution_count": 16,
   "metadata": {},
   "outputs": [],
   "source": [
    "### Training the final model ###\n",
    "\n",
    "# Import the packages we will need for the project\n",
    "import numpy as np\n",
    "import pandas as pd\n",
    "\n",
    "# Import the packages we will need to make our model\n",
    "from sklearn.gaussian_process.kernels import RBF,  DotProduct, WhiteKernel, Matern\n",
    "from sklearn.gaussian_process import GaussianProcessRegressor\n",
    "\n",
    "# Import the data we will use to make our model\n",
    "gpr_gamelogs = pd.read_csv('data\\\\league_gamelogs_v2.csv')\n",
    "\n",
    "# Remove the columns that we do not need to make our model\n",
    "gpr_gamelogs.drop(columns=['team_id','game_id','game_date','home_away','pie','pie_10'], inplace=True)\n",
    "\n",
    "# Define our dependent variable (y) and our independent variables (X)\n",
    "game_Y = gpr_gamelogs['pts']\n",
    "game_X = gpr_gamelogs.drop(columns=['pts'])"
   ]
  },
  {
   "cell_type": "code",
   "execution_count": 17,
   "metadata": {},
   "outputs": [
    {
     "data": {
      "text/html": [
       "<style>#sk-container-id-1 {color: black;background-color: white;}#sk-container-id-1 pre{padding: 0;}#sk-container-id-1 div.sk-toggleable {background-color: white;}#sk-container-id-1 label.sk-toggleable__label {cursor: pointer;display: block;width: 100%;margin-bottom: 0;padding: 0.3em;box-sizing: border-box;text-align: center;}#sk-container-id-1 label.sk-toggleable__label-arrow:before {content: \"▸\";float: left;margin-right: 0.25em;color: #696969;}#sk-container-id-1 label.sk-toggleable__label-arrow:hover:before {color: black;}#sk-container-id-1 div.sk-estimator:hover label.sk-toggleable__label-arrow:before {color: black;}#sk-container-id-1 div.sk-toggleable__content {max-height: 0;max-width: 0;overflow: hidden;text-align: left;background-color: #f0f8ff;}#sk-container-id-1 div.sk-toggleable__content pre {margin: 0.2em;color: black;border-radius: 0.25em;background-color: #f0f8ff;}#sk-container-id-1 input.sk-toggleable__control:checked~div.sk-toggleable__content {max-height: 200px;max-width: 100%;overflow: auto;}#sk-container-id-1 input.sk-toggleable__control:checked~label.sk-toggleable__label-arrow:before {content: \"▾\";}#sk-container-id-1 div.sk-estimator input.sk-toggleable__control:checked~label.sk-toggleable__label {background-color: #d4ebff;}#sk-container-id-1 div.sk-label input.sk-toggleable__control:checked~label.sk-toggleable__label {background-color: #d4ebff;}#sk-container-id-1 input.sk-hidden--visually {border: 0;clip: rect(1px 1px 1px 1px);clip: rect(1px, 1px, 1px, 1px);height: 1px;margin: -1px;overflow: hidden;padding: 0;position: absolute;width: 1px;}#sk-container-id-1 div.sk-estimator {font-family: monospace;background-color: #f0f8ff;border: 1px dotted black;border-radius: 0.25em;box-sizing: border-box;margin-bottom: 0.5em;}#sk-container-id-1 div.sk-estimator:hover {background-color: #d4ebff;}#sk-container-id-1 div.sk-parallel-item::after {content: \"\";width: 100%;border-bottom: 1px solid gray;flex-grow: 1;}#sk-container-id-1 div.sk-label:hover label.sk-toggleable__label {background-color: #d4ebff;}#sk-container-id-1 div.sk-serial::before {content: \"\";position: absolute;border-left: 1px solid gray;box-sizing: border-box;top: 0;bottom: 0;left: 50%;z-index: 0;}#sk-container-id-1 div.sk-serial {display: flex;flex-direction: column;align-items: center;background-color: white;padding-right: 0.2em;padding-left: 0.2em;position: relative;}#sk-container-id-1 div.sk-item {position: relative;z-index: 1;}#sk-container-id-1 div.sk-parallel {display: flex;align-items: stretch;justify-content: center;background-color: white;position: relative;}#sk-container-id-1 div.sk-item::before, #sk-container-id-1 div.sk-parallel-item::before {content: \"\";position: absolute;border-left: 1px solid gray;box-sizing: border-box;top: 0;bottom: 0;left: 50%;z-index: -1;}#sk-container-id-1 div.sk-parallel-item {display: flex;flex-direction: column;z-index: 1;position: relative;background-color: white;}#sk-container-id-1 div.sk-parallel-item:first-child::after {align-self: flex-end;width: 50%;}#sk-container-id-1 div.sk-parallel-item:last-child::after {align-self: flex-start;width: 50%;}#sk-container-id-1 div.sk-parallel-item:only-child::after {width: 0;}#sk-container-id-1 div.sk-dashed-wrapped {border: 1px dashed gray;margin: 0 0.4em 0.5em 0.4em;box-sizing: border-box;padding-bottom: 0.4em;background-color: white;}#sk-container-id-1 div.sk-label label {font-family: monospace;font-weight: bold;display: inline-block;line-height: 1.2em;}#sk-container-id-1 div.sk-label-container {text-align: center;}#sk-container-id-1 div.sk-container {/* jupyter's `normalize.less` sets `[hidden] { display: none; }` but bootstrap.min.css set `[hidden] { display: none !important; }` so we also need the `!important` here to be able to override the default hidden behavior on the sphinx rendered scikit-learn.org. See: https://github.com/scikit-learn/scikit-learn/issues/21755 */display: inline-block !important;position: relative;}#sk-container-id-1 div.sk-text-repr-fallback {display: none;}</style><div id=\"sk-container-id-1\" class=\"sk-top-container\"><div class=\"sk-text-repr-fallback\"><pre>GaussianProcessRegressor(kernel=1**2 * RBF(length_scale=1) + WhiteKernel(noise_level=1),\n",
       "                         random_state=3)</pre><b>In a Jupyter environment, please rerun this cell to show the HTML representation or trust the notebook. <br />On GitHub, the HTML representation is unable to render, please try loading this page with nbviewer.org.</b></div><div class=\"sk-container\" hidden><div class=\"sk-item\"><div class=\"sk-estimator sk-toggleable\"><input class=\"sk-toggleable__control sk-hidden--visually\" id=\"sk-estimator-id-1\" type=\"checkbox\" checked><label for=\"sk-estimator-id-1\" class=\"sk-toggleable__label sk-toggleable__label-arrow\">GaussianProcessRegressor</label><div class=\"sk-toggleable__content\"><pre>GaussianProcessRegressor(kernel=1**2 * RBF(length_scale=1) + WhiteKernel(noise_level=1),\n",
       "                         random_state=3)</pre></div></div></div></div></div>"
      ],
      "text/plain": [
       "GaussianProcessRegressor(kernel=1**2 * RBF(length_scale=1) + WhiteKernel(noise_level=1),\n",
       "                         random_state=3)"
      ]
     },
     "execution_count": 17,
     "metadata": {},
     "output_type": "execute_result"
    }
   ],
   "source": [
    "kernel = 1.0*RBF() + WhiteKernel()\n",
    "gpr = GaussianProcessRegressor(kernel=kernel, random_state=3)\n",
    "gpr.fit(game_X, game_Y)"
   ]
  },
  {
   "cell_type": "code",
   "execution_count": 21,
   "metadata": {},
   "outputs": [
    {
     "data": {
      "text/plain": [
       "0.45003346348091444"
      ]
     },
     "execution_count": 21,
     "metadata": {},
     "output_type": "execute_result"
    }
   ],
   "source": [
    "# Sample 25% of game_x and game_Y\n",
    "gpr_gamelogs_sample = gpr_gamelogs.sample(frac=0.25, random_state=3)\n",
    "game_X_sample = gpr_gamelogs_sample.drop(columns=['pts'])\n",
    "game_Y_sample = gpr_gamelogs_sample['pts']\n",
    "\n",
    "kernel = DotProduct() + WhiteKernel()\n",
    "gpr_small = GaussianProcessRegressor(kernel=kernel, random_state=3)\n",
    "gpr_small.fit(game_X_sample, game_Y_sample)\n",
    "gpr_small.score(game_X_sample, game_Y_sample)"
   ]
  },
  {
   "cell_type": "code",
   "execution_count": 22,
   "metadata": {},
   "outputs": [
    {
     "data": {
      "text/plain": [
       "['models\\\\gpr_model_small.joblib']"
      ]
     },
     "execution_count": 22,
     "metadata": {},
     "output_type": "execute_result"
    }
   ],
   "source": [
    "import joblib\n",
    "import pickle\n",
    "\n",
    "pickle.dump(gpr_small, open('models\\\\gpr_model_small.pkl', 'wb'))\n",
    "joblib.dump(gpr_small, 'models\\\\gpr_model_small.joblib')"
   ]
  },
  {
   "cell_type": "code",
   "execution_count": null,
   "metadata": {},
   "outputs": [],
   "source": [
    "### Model R&D ###\n",
    "\n",
    "# Import the packages we will need for the project\n",
    "import numpy as np\n",
    "import pandas as pd\n",
    "\n",
    "# Import the packages we will need to make our model\n",
    "from sklearn.gaussian_process.kernels import RBF,  DotProduct, WhiteKernel, Matern\n",
    "from sklearn.gaussian_process import GaussianProcessRegressor\n",
    "from sklearn.model_selection import train_test_split\n",
    "\n",
    "# Import the data we will use to make our model\n",
    "gpr_gamelogs = pd.read_csv('data\\\\league_gamelogs_v2.csv')\n",
    "\n",
    "# Filter the data to only include games played by the OKC Thunder\n",
    "okc_gamelogs = gpr_gamelogs[(gpr_gamelogs['team_id'] == 1610612760) | (gpr_gamelogs['team_id'] == 1610612742)]\n",
    "\n",
    "# Remove the columns that we do not need to make our model\n",
    "okc_gamelogs.drop(columns=['team_id','game_id','game_date','home_away','pie','pie_10'], inplace=True)\n",
    "\n",
    "# Define our dependent variable (y) and our independent variables (X)\n",
    "game_Y_ = okc_gamelogs['pts']\n",
    "game_X_ = okc_gamelogs.drop(columns=['pts'])\n",
    "\n",
    "# Split the data into training and testing data\n",
    "X_train, X_test, Y_train, Y_test = train_test_split(game_X_, game_Y_, test_size=0.2, random_state=42)"
   ]
  },
  {
   "cell_type": "code",
   "execution_count": null,
   "metadata": {},
   "outputs": [],
   "source": [
    "# Train the model and score it\n",
    "# kernel = 1.0*(RBF(1.0) * DotProduct()) + WhiteKernel()\n",
    "kernel = DotProduct() + WhiteKernel()\n",
    "gpr = GaussianProcessRegressor(kernel=kernel, random_state=3)\n",
    "gpr.fit(X_train, Y_train)\n",
    "gpr.score(X_test, Y_test)"
   ]
  },
  {
   "cell_type": "code",
   "execution_count": 11,
   "metadata": {},
   "outputs": [],
   "source": [
    "# save gpr to model folder\n",
    "import pickle\n",
    "pickle.dump(gpr, open('models\\\\gpr_model.pkl', 'wb'))"
   ]
  },
  {
   "cell_type": "code",
   "execution_count": null,
   "metadata": {},
   "outputs": [],
   "source": [
    "# Help me think of different kernels to try out for the model\n",
    "# kernel = (1.0*RBF()) + WhiteKernel()\n",
    "# kernel = DotProduct() + WhiteKernel()\n",
    "# kernel = RBF() + WhiteKernel()\n",
    "# kernel = RBF() + DotProduct() + WhiteKernel()\n",
    "# kernel = RBF() + DotProduct()\n",
    "# kernel = RBF() + WhiteKernel()\n",
    "# kernel = RBF()\n",
    "# kernel = DotProduct() + WhiteKernel()\n"
   ]
  },
  {
   "cell_type": "code",
   "execution_count": 36,
   "metadata": {},
   "outputs": [],
   "source": [
    "from sklearn.gaussian_process.kernels import DotProduct, WhiteKernel\n",
    "from sklearn.gaussian_process import GaussianProcessRegressor\n",
    "\n",
    "# Obtain dataset for model training\n",
    "gpr_gamelogs = pd.read_csv('data\\\\league_gamelogs_v2.csv')\n",
    "gpr_gamelogs.drop(columns=['team_id','game_id','game_date','home_away'], inplace=True)\n",
    "game_Y = gpr_gamelogs['pts']\n",
    "game_X = gpr_gamelogs.drop(columns=['pts'])\n",
    "\n",
    "# Train the model and score it\n",
    "kernel = DotProduct() + WhiteKernel()\n",
    "gpr = GaussianProcessRegressor(kernel=kernel, random_state=3).fit(game_X, game_Y)\n"
   ]
  },
  {
   "cell_type": "code",
   "execution_count": 39,
   "metadata": {},
   "outputs": [],
   "source": [
    "# Save model\n",
    "import joblib\n",
    "import pickle\n",
    "\n",
    "pickle.dump(gpr, open('models\\\\gpr_model.pkl', 'wb'))\n",
    "joblib.dump(gpr, 'models\\\\gpr_model.sav')"
   ]
  },
  {
   "cell_type": "code",
   "execution_count": 33,
   "metadata": {},
   "outputs": [
    {
     "name": "stdout",
     "output_type": "stream",
     "text": [
      "\n"
     ]
    }
   ],
   "source": [
    "# Load gpr model from models/gpr_model.pkl\n",
    "import pickle\n",
    "# Load model from pickle file\n",
    "gpr_test = pickle.load(open('models/gpr_model.pkl', 'rb'))"
   ]
  },
  {
   "cell_type": "code",
   "execution_count": null,
   "metadata": {},
   "outputs": [],
   "source": [
    "test_features = pd.DataFrame({\n",
    "    'off_rtg': [115.3],\n",
    "    'off_rtg_10': [103.62],\n",
    "    'pace': [108.14],\n",
    "    'pace_10': [99.5],\n",
    "    'pie': [0.5],\n",
    "    'pie_10': [0.53],\n",
    "})\n",
    "\n",
    "# Get score prediction for fake example\n",
    "score_dist = gpr.predict(test_features, return_std=True)\n",
    "mean, std = score_dist\n",
    "print(f\"Predicted Score: {round(mean[0],2)}, StDev: {round(std[0],3)}\")"
   ]
  },
  {
   "attachments": {},
   "cell_type": "markdown",
   "metadata": {},
   "source": [
    "Test Plots"
   ]
  },
  {
   "cell_type": "code",
   "execution_count": null,
   "metadata": {},
   "outputs": [],
   "source": [
    "import matplotlib.pyplot as plt\n",
    "import scipy.stats as stats\n",
    "import numpy as np\n",
    "\n",
    "# Plot bell curve of predicted scores\n",
    "x = np.linspace(mean[0] - 3*std[0], mean[0] + 3*std[0], 100)\n",
    "plt.plot(x, stats.norm.pdf(x, mean[0], std[0]))\n",
    "\n",
    "# Add legend and labels\n",
    "plt.legend()\n",
    "plt.title('Gaussian Process Regression')\n",
    "plt.xlabel('Predicted Score')\n",
    "plt.ylabel('Probability')\n",
    "plt.show()"
   ]
  },
  {
   "attachments": {},
   "cell_type": "markdown",
   "metadata": {},
   "source": [
    "Load Live Data & Predict"
   ]
  },
  {
   "cell_type": "code",
   "execution_count": 2,
   "metadata": {},
   "outputs": [],
   "source": [
    "# Get team stats for season and last 10 games\n",
    "league_adv = leaguedashteamstats.LeagueDashTeamStats(measure_type_detailed_defense='Advanced').get_data_frames()[0]\n",
    "league_10_adv = leaguedashteamstats.LeagueDashTeamStats(last_n_games=10, measure_type_detailed_defense='Advanced').get_data_frames()[0]\n",
    "\n",
    "# Merge season and last 10 game stats\n",
    "league_adv = league_adv[['TEAM_ID','OFF_RATING','DEF_RATING','PACE','PIE']]\n",
    "league_adv.columns = ['team_id','off_rtg','def_rtg','pace','pie']\n",
    "league_10_adv = league_10_adv[['TEAM_ID','OFF_RATING','DEF_RATING','PACE','PIE']]\n",
    "league_10_adv.columns = ['team_id','off_rtg_10','def_rtg_10','pace_10','pie_10']\n",
    "league_adv_df = league_adv.merge(league_10_adv, how='left', on='team_id')\n",
    "league_stats = league_adv_df[['team_id','off_rtg','off_rtg_10','def_rtg','def_rtg_10','pace','pace_10','pie','pie_10']].copy()\n",
    "league_stats.to_csv('data\\\\league_stats.csv', index=False)"
   ]
  },
  {
   "cell_type": "code",
   "execution_count": null,
   "metadata": {},
   "outputs": [],
   "source": [
    "# Get predictions for all teams\n",
    "gpr_league_df = league_adv_df.copy()\n",
    "gpr_league_df = gpr_league_df.drop(columns=['team_id'])\n",
    "preds = gpr.predict(gpr_league_df, return_std=True)\n",
    "\n",
    "# Add predictions to league dataframe\n",
    "league_adv_df['pred_pts'] = preds[0]\n",
    "league_adv_df['pred_std'] = preds[1]\n",
    "league_adv_df['pred_pts'] = league_adv_df['pred_pts'].round(3)\n",
    "league_adv_df['pred_std'] = league_adv_df['pred_std'].round(3)"
   ]
  },
  {
   "attachments": {},
   "cell_type": "markdown",
   "metadata": {},
   "source": [
    "Plot Predictions"
   ]
  },
  {
   "cell_type": "code",
   "execution_count": null,
   "metadata": {},
   "outputs": [],
   "source": [
    "# Get average points and standard deviation for league\n",
    "avg_pts = league_adv_df['pred_pts'].mean()\n",
    "avg_std = league_adv_df['pred_std'].mean()\n",
    "x = np.linspace(avg_pts - 3*avg_std, avg_pts + 3*avg_std, 100)\n",
    "\n",
    "# Plot OKC's predicted score distribution\n",
    "okc_pred_pts = league_adv_df[league_adv_df['team_id'] == 1610612760]['pred_pts']\n",
    "okc_pred_std = league_adv_df[league_adv_df['team_id'] == 1610612760]['pred_std']\n",
    "plt.plot(x, stats.norm.pdf(x, okc_pred_pts, okc_pred_std), label='OKC')\n",
    "\n",
    "# Plot Brooklyn's predicted score distribution\n",
    "bkn_pred_pts = league_adv_df[league_adv_df['team_id'] == 1610612751]['pred_pts']\n",
    "bkn_pred_std = league_adv_df[league_adv_df['team_id'] == 1610612751]['pred_std']\n",
    "plt.plot(x, stats.norm.pdf(x, bkn_pred_pts, bkn_pred_std), label='BKN')\n",
    "\n",
    "# Add legend and labels\n",
    "plt.legend()\n",
    "plt.xlabel('Points')\n",
    "plt.ylabel('Probability')\n",
    "plt.title('Predicted Score Distribution')\n",
    "plt.show()"
   ]
  }
 ],
 "metadata": {
  "kernelspec": {
   "display_name": "Python 3",
   "language": "python",
   "name": "python3"
  },
  "language_info": {
   "codemirror_mode": {
    "name": "ipython",
    "version": 3
   },
   "file_extension": ".py",
   "mimetype": "text/x-python",
   "name": "python",
   "nbconvert_exporter": "python",
   "pygments_lexer": "ipython3",
   "version": "3.10.6 (tags/v3.10.6:9c7b4bd, Aug  1 2022, 21:53:49) [MSC v.1932 64 bit (AMD64)]"
  },
  "orig_nbformat": 4,
  "vscode": {
   "interpreter": {
    "hash": "fb4569285eef3a3450cb62085a5b1e0da4bce0af555edc33dcf29baf3acc1368"
   }
  }
 },
 "nbformat": 4,
 "nbformat_minor": 2
}
