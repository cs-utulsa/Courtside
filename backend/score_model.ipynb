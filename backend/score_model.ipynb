{
 "cells": [
  {
   "cell_type": "code",
   "execution_count": null,
   "metadata": {},
   "outputs": [],
   "source": [
    "import pandas as pd\n",
    "from nba_api.stats.endpoints import playercareerstats\n",
    "from nba_api.live.nba.endpoints import scoreboard\n",
    "from nba_api.stats.endpoints import teamdashboardbylastngames\n",
    "from nba_api.stats.endpoints import teamdashboardbygeneralsplits\n",
    "from nba_api.stats.endpoints import teamdashboardbyyearoveryear\n",
    "from nba_api.stats.endpoints import teamgamelogs"
   ]
  },
  {
   "cell_type": "code",
   "execution_count": null,
   "metadata": {},
   "outputs": [],
   "source": [
    "seasons = [\n",
    "    '2009-10',\n",
    "    '2010-11',\n",
    "    '2011-12',\n",
    "    '2012-13',\n",
    "    '2013-14',\n",
    "    '2014-15',\n",
    "    '2015-16',\n",
    "    '2016-17',\n",
    "    '2017-18',\n",
    "    '2018-19',\n",
    "    '2019-20',\n",
    "    '2020-21',\n",
    "    '2021-22',\n",
    "    '2022-23',\n",
    "]"
   ]
  },
  {
   "cell_type": "code",
   "execution_count": null,
   "metadata": {},
   "outputs": [],
   "source": [
    "# Loop through all seasons and collect gamelogs\n",
    "okc_gamelogs = []\n",
    "for year in seasons:\n",
    "    temp_df = teamgamelogs.TeamGameLogs(\n",
    "                team_id_nullable=1610612760, \n",
    "                season_nullable=year,\n",
    "                measure_type_player_game_logs_nullable='Advanced',\n",
    "                per_mode_simple_nullable='Per48',\n",
    "                ).get_data_frames()[0]\n",
    "    temp_df.sort_values(by='GAME_DATE', inplace=True)\n",
    "    temp_df['GAME_DATE'] = pd.to_datetime(temp_df['GAME_DATE'])\n",
    "    temp_df['GAME_DATE'] = temp_df['GAME_DATE'].dt.strftime('%Y-%m-%d')\n",
    "    temp_df = temp_df[['TEAM_ID','TEAM_ABBREVIATION','GAME_ID','GAME_DATE','MATCHUP','E_OFF_RATING','E_PACE']]\n",
    "    okc_gamelogs.append(temp_df)\n",
    "\n",
    "# Combine list of dataframes into one dataframe\n",
    "okc_gamelogs = pd.concat(okc_gamelogs)\n",
    "okc_gamelogs.columns = ['team_id','team_abbr','game_id','game_date','matchup','e_off_rtg','e_pace']"
   ]
  },
  {
   "cell_type": "code",
   "execution_count": null,
   "metadata": {},
   "outputs": [],
   "source": [
    "# Collect points scored and against for each game\n",
    "okc_scores = []\n",
    "for year in seasons:\n",
    "    temp_df = teamgamelogs.TeamGameLogs(\n",
    "                team_id_nullable=1610612760, \n",
    "                season_nullable=year,\n",
    "                per_mode_simple_nullable='Per48',\n",
    "                ).get_data_frames()[0]\n",
    "    temp_df.sort_values(by='GAME_DATE', inplace=True)\n",
    "    temp_df['PTS'] = temp_df['PTS'].astype(int)\n",
    "    temp_df['PTS_AGAINST'] = temp_df['PTS'] - temp_df['PLUS_MINUS']\n",
    "    temp_df['PTS_AGAINST'] = temp_df['PTS_AGAINST'].astype(int)\n",
    "    temp_df = temp_df[['TEAM_ID','GAME_ID','PTS','PTS_AGAINST']]\n",
    "    okc_scores.append(temp_df)\n",
    "\n",
    "# Combine list of dataframes into one dataframe\n",
    "okc_scores = pd.concat(okc_scores)\n",
    "okc_scores.columns = ['team_id','game_id','pts','pts_against']"
   ]
  },
  {
   "cell_type": "code",
   "execution_count": null,
   "metadata": {},
   "outputs": [],
   "source": [
    "test_gamelogs = okc_gamelogs.copy()\n",
    "test_gamelogs = test_gamelogs.merge(okc_scores, how='left', on=['team_id','game_id'])\n",
    "test_gamelogs['e_off_rtg_10'] = round(test_gamelogs['e_off_rtg'].rolling(10).mean(), 3)\n",
    "test_gamelogs['e_pace_10'] = round(test_gamelogs['e_pace'].rolling(10).mean(), 3)\n",
    "test_gamelogs['e_off_rtg_82'] = round(test_gamelogs['e_off_rtg'].rolling(82).mean(), 3)\n",
    "test_gamelogs['e_pace_82'] = round(test_gamelogs['e_pace'].rolling(82).mean(), 3)\n",
    "test_gamelogs = test_gamelogs[test_gamelogs['game_date'] >= '2010-09-01']\n",
    "test_gamelogs = test_gamelogs.drop(columns=['e_off_rtg','e_pace'])\n",
    "test_gamelogs.reset_index(drop=True, inplace=True)"
   ]
  },
  {
   "cell_type": "code",
   "execution_count": 104,
   "metadata": {},
   "outputs": [
    {
     "name": "stdout",
     "output_type": "stream",
     "text": [
      "0.1990992002355707\n"
     ]
    }
   ],
   "source": [
    "from sklearn.gaussian_process.kernels import DotProduct, WhiteKernel\n",
    "from sklearn.gaussian_process import GaussianProcessRegressor\n",
    "from sklearn.model_selection import train_test_split\n",
    "\n",
    "gpr_gamelogs = test_gamelogs.copy()\n",
    "gpr_gamelogs = gpr_gamelogs[['pts','e_off_rtg_10','e_off_rtg_82','e_pace_10','e_pace_82']]\n",
    "\n",
    "game_Y = gpr_gamelogs['pts']\n",
    "game_X = gpr_gamelogs.drop(columns=['pts'])\n",
    "\n",
    "X_train, X_test, Y_train, Y_test = train_test_split(game_X, game_Y, test_size=0.2)\n",
    "\n",
    "kernel = DotProduct() + WhiteKernel()\n",
    "gpr = GaussianProcessRegressor(kernel=kernel, random_state=3).fit(X_train, Y_train)\n",
    "print(gpr.score(X_test, Y_test))"
   ]
  },
  {
   "cell_type": "code",
   "execution_count": 107,
   "metadata": {},
   "outputs": [
    {
     "name": "stdout",
     "output_type": "stream",
     "text": [
      "Predicted Score: 125.33, StDev: 10.719\n"
     ]
    }
   ],
   "source": [
    "test_features = pd.DataFrame({\n",
    "    'e_off_rtg_10': [115.3],\n",
    "    'e_off_rtg_82': [103.62],\n",
    "    'e_pace_10': [108.14],\n",
    "    'e_pace_82': [99.5],\n",
    "})\n",
    "\n",
    "score_dist = gpr.predict(test_features, return_std=True)\n",
    "mean, std = score_dist\n",
    "print(f\"Predicted Score: {round(mean[0],2)}, StDev: {round(std[0],3)}\")"
   ]
  }
 ],
 "metadata": {
  "kernelspec": {
   "display_name": "Python 3",
   "language": "python",
   "name": "python3"
  },
  "language_info": {
   "codemirror_mode": {
    "name": "ipython",
    "version": 3
   },
   "file_extension": ".py",
   "mimetype": "text/x-python",
   "name": "python",
   "nbconvert_exporter": "python",
   "pygments_lexer": "ipython3",
   "version": "3.10.6"
  },
  "orig_nbformat": 4,
  "vscode": {
   "interpreter": {
    "hash": "fb4569285eef3a3450cb62085a5b1e0da4bce0af555edc33dcf29baf3acc1368"
   }
  }
 },
 "nbformat": 4,
 "nbformat_minor": 2
}
