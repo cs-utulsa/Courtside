{
 "cells": [
  {
   "cell_type": "code",
   "execution_count": null,
   "metadata": {},
   "outputs": [],
   "source": [
    "import pandas as pd\n",
    "from nba_api.stats.endpoints import teamdashboardbylastngames\n",
    "from nba_api.stats.endpoints import teamgamelogs\n",
    "from nba_api.stats.endpoints import leaguedashteamstats"
   ]
  },
  {
   "cell_type": "code",
   "execution_count": null,
   "metadata": {},
   "outputs": [],
   "source": [
    "seasons = [\n",
    "    '2009-10',\n",
    "    '2010-11',\n",
    "    '2011-12',\n",
    "    '2012-13',\n",
    "    '2013-14',\n",
    "    '2014-15',\n",
    "    '2015-16',\n",
    "    '2016-17',\n",
    "    '2017-18',\n",
    "    '2018-19',\n",
    "    '2019-20',\n",
    "    '2020-21',\n",
    "    '2021-22',\n",
    "    '2022-23',\n",
    "]"
   ]
  },
  {
   "cell_type": "code",
   "execution_count": null,
   "metadata": {},
   "outputs": [],
   "source": [
    "# Set team id and team abbr\n",
    "team_abbr = 'OKC'\n",
    "team_id = 1610612760\n",
    "\n",
    "# Function to determine if game was home or away\n",
    "def home_away(row):\n",
    "    if row['MATCHUP'].find('@') == -1:\n",
    "        return 'H'\n",
    "    else:\n",
    "        return 'A'\n",
    "\n",
    "# Loop through all seasons and collect gamelogs\n",
    "team_gamelogs = []\n",
    "for year in seasons:\n",
    "    try:\n",
    "        temp_df = teamgamelogs.TeamGameLogs(\n",
    "                    team_id_nullable=team_id, \n",
    "                    season_nullable=year,\n",
    "                    measure_type_player_game_logs_nullable='Advanced',\n",
    "                    per_mode_simple_nullable='Per48',\n",
    "                    ).get_data_frames()[0]\n",
    "        temp_df.sort_values(by='GAME_DATE', inplace=True)\n",
    "        temp_df['GAME_DATE'] = pd.to_datetime(temp_df['GAME_DATE'])\n",
    "        temp_df['GAME_DATE'] = temp_df['GAME_DATE'].dt.strftime('%Y-%m-%d')\n",
    "        temp_df['HOME_AWAY'] = temp_df.apply(home_away, axis=1)\n",
    "        temp_df = temp_df[['TEAM_ID','GAME_ID','GAME_DATE','HOME_AWAY','OFF_RATING','DEF_RATING','PACE','PIE']]\n",
    "        team_gamelogs.append(temp_df)\n",
    "        print(f\"{team_abbr} Advanced: {year} Done\")\n",
    "    except:\n",
    "        print(f\"{team_abbr} Advanced: {year} Error\")\n",
    "        continue\n",
    "team_gamelogs = pd.concat(team_gamelogs)\n",
    "team_gamelogs.columns = ['team_id','game_id','game_date','home_away','OFF_RATING','DEF_RATING','PACE_','PIE_']\n",
    "\n",
    "# Collect points scored for each game\n",
    "team_scores = []\n",
    "for year in seasons:\n",
    "    try:\n",
    "        temp_df = teamgamelogs.TeamGameLogs(\n",
    "                    team_id_nullable=team_id, \n",
    "                    season_nullable=year,\n",
    "                    per_mode_simple_nullable='Per48',\n",
    "                    ).get_data_frames()[0]\n",
    "        temp_df.sort_values(by='GAME_DATE', inplace=True)\n",
    "        temp_df['PTS'] = temp_df['PTS'].astype(int)\n",
    "        temp_df = temp_df[['TEAM_ID','GAME_ID','PTS']]\n",
    "        team_scores.append(temp_df)\n",
    "        print(f\"{team_abbr} Score: {year} Done\")\n",
    "    except:\n",
    "        print(f\"{team_abbr} Score: {year} Error\")\n",
    "        continue\n",
    "team_scores = pd.concat(team_scores)\n",
    "team_scores.columns = ['team_id','game_id','pts']\n",
    "\n",
    "# Merge gamelogs/scores and calculate rolling averages\n",
    "team_score_df = team_gamelogs.copy()\n",
    "team_score_df = team_score_df.merge(team_scores, how='left', on=['team_id','game_id'])\n",
    "team_score_df['off_rtg'] = round(team_score_df['OFF_RATING'].rolling(82).mean(), 3)\n",
    "team_score_df['off_rtg_10'] = round(team_score_df['OFF_RATING'].rolling(10).mean(), 3)\n",
    "team_score_df['def_rtg'] = round(team_score_df['DEF_RATING'].rolling(82).mean(), 3)\n",
    "team_score_df['def_rtg_10'] = round(team_score_df['DEF_RATING'].rolling(10).mean(), 3)\n",
    "team_score_df['pace'] = round(team_score_df['PACE_'].rolling(82).mean(), 3)\n",
    "team_score_df['pace_10'] = round(team_score_df['PACE_'].rolling(10).mean(), 3)\n",
    "team_score_df['pie'] = round(team_score_df['PIE_'].rolling(82).mean(), 3)\n",
    "team_score_df['pie_10'] = round(team_score_df['PIE_'].rolling(10).mean(), 3)\n",
    "team_score_df = team_score_df[team_score_df['game_date'] >= '2010-09-01']\n",
    "team_score_df = team_score_df.drop(columns=['OFF_RATING','DEF_RATING','PACE_','PIE_'])\n",
    "team_score_df.reset_index(drop=True, inplace=True)\n",
    "team_score_df.to_csv(f\"data\\\\gamelogs\\\\{team_abbr}_gamelogs.csv\", index=False)\n",
    "print(f\"{team_abbr} Done!\")"
   ]
  },
  {
   "cell_type": "code",
   "execution_count": null,
   "metadata": {},
   "outputs": [],
   "source": [
    "import os\n",
    "\n",
    "# Concat all team gamelogs together into one dataframe\n",
    "files = os.listdir('data\\\\gamelogs')\n",
    "gamelogs = []\n",
    "for file in files:\n",
    "    temp_df = pd.read_csv(f\"data\\\\gamelogs\\\\{file}\")\n",
    "    gamelogs.append(temp_df)\n",
    "    \n",
    "league_gamelogs = pd.concat(gamelogs)\n",
    "league_gamelogs.to_csv('data\\\\gamelogs\\\\league_gamelogs.csv', index=False)"
   ]
  },
  {
   "cell_type": "code",
   "execution_count": 34,
   "metadata": {},
   "outputs": [],
   "source": [
    "# Get opponent defensive rating and pace for each game\n",
    "league_gamelogs = pd.read_csv('data\\\\league_gamelogs.csv')\n",
    "league_gamelogs_merge = league_gamelogs.copy()\n",
    "league_gamelogs_merge = league_gamelogs_merge[['team_id','game_id','def_rtg','def_rtg_10','pace','pace_10']]\n",
    "league_gamelogs = league_gamelogs.merge(league_gamelogs_merge, how='left', on=['game_id'], suffixes=('','_opp'))\n",
    "league_gamelogs = league_gamelogs[league_gamelogs['team_id'] != league_gamelogs['team_id_opp']]\n",
    "league_gamelogs.drop(columns=['def_rtg','def_rtg_10','team_id_opp'], inplace=True)\n",
    "league_gamelogs = league_gamelogs.rename(columns={'def_rtg_opp':'opp_def_rtg',\n",
    "                                                  'def_rtg_10_opp':'opp_def_rtg_10',\n",
    "                                                  'pace_opp':'opp_pace',\n",
    "                                                  'pace_10_opp':'opp_pace_10'})\n",
    "league_gamelogs.to_csv('data\\\\league_gamelogs_v2.csv', index=False)"
   ]
  },
  {
   "cell_type": "code",
   "execution_count": 36,
   "metadata": {},
   "outputs": [],
   "source": [
    "from sklearn.gaussian_process.kernels import DotProduct, WhiteKernel\n",
    "from sklearn.gaussian_process import GaussianProcessRegressor\n",
    "\n",
    "# Obtain dataset for model training\n",
    "gpr_gamelogs = pd.read_csv('data\\\\league_gamelogs_v2.csv')\n",
    "gpr_gamelogs.drop(columns=['team_id','game_id','game_date','home_away'], inplace=True)\n",
    "game_Y = gpr_gamelogs['pts']\n",
    "game_X = gpr_gamelogs.drop(columns=['pts'])\n",
    "\n",
    "# Train the model and score it\n",
    "kernel = DotProduct() + WhiteKernel()\n",
    "gpr = GaussianProcessRegressor(kernel=kernel, random_state=3).fit(game_X, game_Y)"
   ]
  },
  {
   "cell_type": "code",
   "execution_count": 39,
   "metadata": {},
   "outputs": [],
   "source": [
    "# Save model\n",
    "import joblib\n",
    "import pickle\n",
    "\n",
    "pickle.dump(gpr, open('models\\\\gpr_model.pkl', 'wb'))\n",
    "joblib.dump(gpr, 'models\\\\gpr_model.sav')"
   ]
  },
  {
   "cell_type": "code",
   "execution_count": null,
   "metadata": {},
   "outputs": [],
   "source": [
    "test_features = pd.DataFrame({\n",
    "    'off_rtg': [115.3],\n",
    "    'off_rtg_10': [103.62],\n",
    "    'pace': [108.14],\n",
    "    'pace_10': [99.5],\n",
    "    'pie': [0.5],\n",
    "    'pie_10': [0.53],\n",
    "})\n",
    "\n",
    "# Get score prediction for fake example\n",
    "score_dist = gpr.predict(test_features, return_std=True)\n",
    "mean, std = score_dist\n",
    "print(f\"Predicted Score: {round(mean[0],2)}, StDev: {round(std[0],3)}\")"
   ]
  },
  {
   "cell_type": "code",
   "execution_count": null,
   "metadata": {},
   "outputs": [],
   "source": [
    "import matplotlib.pyplot as plt\n",
    "import scipy.stats as stats\n",
    "import numpy as np\n",
    "\n",
    "# Plot bell curve of predicted scores\n",
    "x = np.linspace(mean[0] - 3*std[0], mean[0] + 3*std[0], 100)\n",
    "plt.plot(x, stats.norm.pdf(x, mean[0], std[0]))\n",
    "\n",
    "# Add legend and labels\n",
    "plt.legend()\n",
    "plt.title('Gaussian Process Regression')\n",
    "plt.xlabel('Predicted Score')\n",
    "plt.ylabel('Probability')\n",
    "plt.show()"
   ]
  },
  {
   "cell_type": "code",
   "execution_count": 40,
   "metadata": {},
   "outputs": [],
   "source": [
    "# Get team stats for season and last 10 games\n",
    "league_adv = leaguedashteamstats.LeagueDashTeamStats(measure_type_detailed_defense='Advanced').get_data_frames()[0]\n",
    "league_10_adv = leaguedashteamstats.LeagueDashTeamStats(last_n_games=10, measure_type_detailed_defense='Advanced').get_data_frames()[0]\n",
    "\n",
    "# Merge season and last 10 game stats\n",
    "league_adv = league_adv[['TEAM_ID','OFF_RATING','PACE','PIE']]\n",
    "league_adv.columns = ['team_id','off_rtg','pace','pie']\n",
    "league_10_adv = league_10_adv[['TEAM_ID','OFF_RATING','PACE','PIE']]\n",
    "league_10_adv.columns = ['team_id','off_rtg_10','pace_10','pie_10']\n",
    "league_adv_df = league_adv.merge(league_10_adv, how='left', on='team_id')\n",
    "league_adv_df = league_adv_df[['team_id','off_rtg','off_rtg_10','pace','pace_10','pie','pie_10']]"
   ]
  },
  {
   "cell_type": "code",
   "execution_count": null,
   "metadata": {},
   "outputs": [],
   "source": [
    "# Get predictions for all teams\n",
    "gpr_league_df = league_adv_df.copy()\n",
    "gpr_league_df = gpr_league_df.drop(columns=['team_id'])\n",
    "preds = gpr.predict(gpr_league_df, return_std=True)\n",
    "\n",
    "# Add predictions to league dataframe\n",
    "league_adv_df['pred_pts'] = preds[0]\n",
    "league_adv_df['pred_std'] = preds[1]\n",
    "league_adv_df['pred_pts'] = league_adv_df['pred_pts'].round(3)\n",
    "league_adv_df['pred_std'] = league_adv_df['pred_std'].round(3)"
   ]
  },
  {
   "cell_type": "code",
   "execution_count": null,
   "metadata": {},
   "outputs": [],
   "source": [
    "# Get average points and standard deviation for league\n",
    "avg_pts = league_adv_df['pred_pts'].mean()\n",
    "avg_std = league_adv_df['pred_std'].mean()\n",
    "x = np.linspace(avg_pts - 3*avg_std, avg_pts + 3*avg_std, 100)\n",
    "\n",
    "# Plot OKC's predicted score distribution\n",
    "okc_pred_pts = league_adv_df[league_adv_df['team_id'] == 1610612760]['pred_pts']\n",
    "okc_pred_std = league_adv_df[league_adv_df['team_id'] == 1610612760]['pred_std']\n",
    "plt.plot(x, stats.norm.pdf(x, okc_pred_pts, okc_pred_std), label='OKC')\n",
    "\n",
    "# Plot Brooklyn's predicted score distribution\n",
    "bkn_pred_pts = league_adv_df[league_adv_df['team_id'] == 1610612751]['pred_pts']\n",
    "bkn_pred_std = league_adv_df[league_adv_df['team_id'] == 1610612751]['pred_std']\n",
    "plt.plot(x, stats.norm.pdf(x, bkn_pred_pts, bkn_pred_std), label='BKN')\n",
    "\n",
    "# Add legend and labels\n",
    "plt.legend()\n",
    "plt.xlabel('Points')\n",
    "plt.ylabel('Probability')\n",
    "plt.title('Predicted Score Distribution')\n",
    "plt.show()"
   ]
  }
 ],
 "metadata": {
  "kernelspec": {
   "display_name": "Python 3",
   "language": "python",
   "name": "python3"
  },
  "language_info": {
   "codemirror_mode": {
    "name": "ipython",
    "version": 3
   },
   "file_extension": ".py",
   "mimetype": "text/x-python",
   "name": "python",
   "nbconvert_exporter": "python",
   "pygments_lexer": "ipython3",
   "version": "3.10.6"
  },
  "orig_nbformat": 4,
  "vscode": {
   "interpreter": {
    "hash": "fb4569285eef3a3450cb62085a5b1e0da4bce0af555edc33dcf29baf3acc1368"
   }
  }
 },
 "nbformat": 4,
 "nbformat_minor": 2
}
