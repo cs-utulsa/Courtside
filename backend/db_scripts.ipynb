{
 "cells": [
  {
   "cell_type": "code",
   "execution_count": 2,
   "metadata": {},
   "outputs": [],
   "source": [
    "from flask import Flask, jsonify\n",
    "from db import db\n",
    "import pandas as pd\n",
    "import constants\n",
    "import pickle"
   ]
  },
  {
   "cell_type": "code",
   "execution_count": null,
   "metadata": {},
   "outputs": [],
   "source": [
    "for x in db.nba_teams.find():\n",
    "    db.nba_teams.insert_one({\n",
    "        \"_id\": x[\"_id\"],\n",
    "        \"abbr\": x[\"abbr\"],\n",
    "        \"name\": x[\"name\"],\n",
    "        \"short\": x[\"short\"],\n",
    "        \"city\": x[\"city\"],\n",
    "        \"roster\": x[\"roster\"],\n",
    "    })\n",
    "    db.nba_teams.delete_one({\"_id\": x[\"_id\"]})"
   ]
  },
  {
   "cell_type": "code",
   "execution_count": null,
   "metadata": {},
   "outputs": [],
   "source": [
    "# Update leaderboards db with stat names\n",
    "for x in db.nba_leaderboards.find():\n",
    "    db.nba_leaderboards.update_one({\"_id\": x[\"_id\"]}, {\"$set\": {\"name\": constants.leaderboard_full_names[f'leaders_{x[\"_id\"]}']}})\n",
    "\n",
    "# Insert roster document for each team\n",
    "for x in db.rosters.find():\n",
    "    for y in x:\n",
    "        if y == \"_id\":\n",
    "            continue\n",
    "        db.rosters.insert_one({\"_id\": y, \"roster\": x[y]})\n",
    "\n",
    "# Insert document for each game in schedule db\n",
    "for x in db.nba_schedule.find():\n",
    "    for y in x:\n",
    "        if y == \"_id\":\n",
    "            continue\n",
    "        db.nba_schedule.insert_one({\"_id\": y, \"schedule\": x[y]})\n",
    "\n",
    "# Insert document for each player in player_data db\n",
    "for x in db.player_data.find():\n",
    "    for y in x:\n",
    "        if y == \"_id\":\n",
    "            continue\n",
    "        db.player_data.insert_one({\"_id\": y, \"data\": x[y]})\n",
    "\n",
    "\n",
    "# Update rosters collections in mongodb\n",
    "with open(f\"backend//player_data//player_data.txt\", \"r\") as f:\n",
    "    player_data_dict = json.load(f)\n",
    "db.player_data.insert_one(player_data_dict)\n",
    "with open(f\"backend//rosters//team_rosters.txt\", \"r\") as f:\n",
    "    team_roster_dict = json.load(f)\n",
    "db.rosters.insert_one(team_roster_dict)\n",
    "\n",
    "\n",
    "# Update leaderboard collections in mongodb\n",
    "for stat in constants.leaderboard_names:\n",
    "    leaderboard = bbref.get_leaderboards(stat, 2022).to_dict(orient='list')\n",
    "    leaderboard.update({\"_id\": f\"{stat.replace('leaders_', '')}\"})\n",
    "    with open(f'leaderboards\\{stat}.pkl', 'wb') as f:\n",
    "        pickle.dump(leaderboard, f)\n",
    "    print(f'{stat} done')\n",
    "\n",
    "for file in os.listdir('leaderboards'):\n",
    "    with open(f'leaderboards\\{file}', 'rb') as f:\n",
    "        leaderboard = pickle.load(f)\n",
    "    db.nba_leaderboards.insert_one(leaderboard)\n",
    "\n",
    "\n",
    "# Update schedule collection in mongodb\n",
    "db.nba_schedule.delete_one({\"_id\": \"schedule_2023\"})\n",
    "schedule = bbref.get_schedule(2023).to_dict(orient='index')\n",
    "schedule.update({\"_id\": \"schedule_2023\"})\n",
    "db.nba_schedule.insert_one(schedule)"
   ]
  },
  {
   "cell_type": "code",
   "execution_count": null,
   "metadata": {},
   "outputs": [],
   "source": [
    "# Move leaderboards 2 to leaderboards db\n",
    "for x in db.nba_leaderboards.find():\n",
    "    db.nba_leaderboards.delete_one({\"_id\": x[\"_id\"]})\n",
    "for x in db.nba_leaderboards2.find():\n",
    "    db.nba_leaderboards.insert_one({\n",
    "        \"_id\": x[\"_id\"],\n",
    "        \"player_id\": x[\"player_id\"],\n",
    "        \"value\": x[\"value\"],\n",
    "        \"per_mode\": x[\"per_mode\"],\n",
    "    })"
   ]
  },
  {
   "cell_type": "code",
   "execution_count": null,
   "metadata": {},
   "outputs": [],
   "source": [
    "# Add team icons to db\n",
    "for key in constants.team_icons:\n",
    "    db.nba_teams.update_one({\"abbr\": key}, {\"$set\": {\"icon\": constants.team_icons[key]}})"
   ]
  },
  {
   "cell_type": "code",
   "execution_count": 6,
   "metadata": {},
   "outputs": [],
   "source": [
    "# Copy teams collection to nba_teams collection\n",
    "for x in db.nba_schedule.find():\n",
    "    db.nba_schedule.insert_one(x)"
   ]
  }
 ],
 "metadata": {
  "kernelspec": {
   "display_name": "Python 3",
   "language": "python",
   "name": "python3"
  },
  "language_info": {
   "codemirror_mode": {
    "name": "ipython",
    "version": 3
   },
   "file_extension": ".py",
   "mimetype": "text/x-python",
   "name": "python",
   "nbconvert_exporter": "python",
   "pygments_lexer": "ipython3",
   "version": "3.10.6"
  },
  "orig_nbformat": 4,
  "vscode": {
   "interpreter": {
    "hash": "994d14d63e541b056dd7ae0f1060dfb8e5457c6d5e65002b954917a2e9efbb9d"
   }
  }
 },
 "nbformat": 4,
 "nbformat_minor": 2
}
