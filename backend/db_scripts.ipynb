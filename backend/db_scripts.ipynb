{
 "cells": [
  {
   "cell_type": "code",
   "execution_count": 2,
   "metadata": {},
   "outputs": [],
   "source": [
    "from flask import Flask, jsonify\n",
    "from db import db\n",
    "import pandas as pd\n",
    "import constants\n",
    "import pickle"
   ]
  },
  {
   "cell_type": "code",
   "execution_count": 6,
   "metadata": {},
   "outputs": [],
   "source": [
    "for x in db.teams.find():\n",
    "    db.teams.insert_one({\n",
    "        \"_id\": x[\"_id\"],\n",
    "        \"abbr\": x[\"abbr\"],\n",
    "        \"name\": x[\"name\"],\n",
    "        \"short\": x[\"short\"],\n",
    "        \"city\": x[\"city\"],\n",
    "        \"roster\": x[\"roster\"],\n",
    "    })\n",
    "    db.teams.delete_one({\"_id\": x[\"_id\"]})"
   ]
  },
  {
   "cell_type": "code",
   "execution_count": null,
   "metadata": {},
   "outputs": [],
   "source": [
    "# Update leaderboards db with stat names\n",
    "for x in db.leaderboards.find():\n",
    "    db.leaderboards.update_one({\"_id\": x[\"_id\"]}, {\"$set\": {\"name\": constants.leaderboard_full_names[f'leaders_{x[\"_id\"]}']}})\n",
    "\n",
    "# Insert roster document for each team\n",
    "for x in db.rosters.find():\n",
    "    for y in x:\n",
    "        if y == \"_id\":\n",
    "            continue\n",
    "        db.rosters.insert_one({\"_id\": y, \"roster\": x[y]})\n",
    "\n",
    "# Insert document for each game in schedule db\n",
    "for x in db.schedule.find():\n",
    "    for y in x:\n",
    "        if y == \"_id\":\n",
    "            continue\n",
    "        db.schedule.insert_one({\"_id\": y, \"schedule\": x[y]})\n",
    "\n",
    "# Insert document for each player in player_data db\n",
    "for x in db.player_data.find():\n",
    "    for y in x:\n",
    "        if y == \"_id\":\n",
    "            continue\n",
    "        db.player_data.insert_one({\"_id\": y, \"data\": x[y]})\n",
    "\n",
    "\n",
    "# Update rosters collections in mongodb\n",
    "with open(f\"backend//player_data//player_data.txt\", \"r\") as f:\n",
    "    player_data_dict = json.load(f)\n",
    "db.player_data.insert_one(player_data_dict)\n",
    "with open(f\"backend//rosters//team_rosters.txt\", \"r\") as f:\n",
    "    team_roster_dict = json.load(f)\n",
    "db.rosters.insert_one(team_roster_dict)\n",
    "\n",
    "\n",
    "# Update leaderboard collections in mongodb\n",
    "for stat in constants.leaderboard_names:\n",
    "    leaderboard = bbref.get_leaderboards(stat, 2022).to_dict(orient='list')\n",
    "    leaderboard.update({\"_id\": f\"{stat.replace('leaders_', '')}\"})\n",
    "    with open(f'leaderboards\\{stat}.pkl', 'wb') as f:\n",
    "        pickle.dump(leaderboard, f)\n",
    "    print(f'{stat} done')\n",
    "\n",
    "for file in os.listdir('leaderboards'):\n",
    "    with open(f'leaderboards\\{file}', 'rb') as f:\n",
    "        leaderboard = pickle.load(f)\n",
    "    db.leaderboards.insert_one(leaderboard)\n",
    "\n",
    "\n",
    "# Update schedule collection in mongodb\n",
    "db.schedule.delete_one({\"_id\": \"schedule_2023\"})\n",
    "schedule = bbref.get_schedule(2023).to_dict(orient='index')\n",
    "schedule.update({\"_id\": \"schedule_2023\"})\n",
    "db.schedule.insert_one(schedule)"
   ]
  }
 ],
 "metadata": {
  "kernelspec": {
   "display_name": "Python 3",
   "language": "python",
   "name": "python3"
  },
  "language_info": {
   "codemirror_mode": {
    "name": "ipython",
    "version": 3
   },
   "file_extension": ".py",
   "mimetype": "text/x-python",
   "name": "python",
   "nbconvert_exporter": "python",
   "pygments_lexer": "ipython3",
   "version": "3.10.6 (tags/v3.10.6:9c7b4bd, Aug  1 2022, 21:53:49) [MSC v.1932 64 bit (AMD64)]"
  },
  "orig_nbformat": 4,
  "vscode": {
   "interpreter": {
    "hash": "fb4569285eef3a3450cb62085a5b1e0da4bce0af555edc33dcf29baf3acc1368"
   }
  }
 },
 "nbformat": 4,
 "nbformat_minor": 2
}
